{
  "cells": [
    {
      "cell_type": "markdown",
      "metadata": {
        "id": "view-in-github",
        "colab_type": "text"
      },
      "source": [
        "<a href=\"https://colab.research.google.com/github/fiifiabban64-rgb/Python-project/blob/main/Python_Tutorial_for_Fiifi.ipynb\" target=\"_parent\"><img src=\"https://colab.research.google.com/assets/colab-badge.svg\" alt=\"Open In Colab\"/></a>"
      ]
    },
    {
      "cell_type": "markdown",
      "metadata": {
        "id": "vtNQL0d2OjhF"
      },
      "source": [
        "# Day 1 and Day 2\n",
        "\n",
        "## Variable\n",
        "are like a containers that we put things in. Variables have name,value,type. The name and the value is termed name-value-pair or key-value-pair>\n",
        "### Types of variables / Variables types\n",
        "* string\n",
        "a string in coding is a text\n",
        "\n",
        "*integer\n",
        "are whole numbers.\n",
        "\n",
        "* floating point number\n",
        "is one with decimal points\n",
        "\n",
        "* bolean\n",
        "is a type that has two possible states example True or Flase\n",
        "\n",
        "## Variable manipulation\n",
        "* +,-,*,% or /\n",
        "\n",
        "\n",
        "## DAY 3\n",
        "\n",
        "Function\n",
        "is a code that can be used over and over again\n",
        "\n",
        "## User I/O\n",
        "this operation acceotsuser input and displays output\n",
        "\n",
        "## DATA TYPES\n",
        "* List & Arrays\n",
        "arrays are lis of numbers.\n",
        "a list is a collection of items.\n",
        "\n",
        "* Dictionaries\n",
        "\n",
        "\n",
        "\n",
        "\n",
        "## Conditional Statements\n",
        "* For loop\n",
        "* while loop\n",
        "* if statement\n",
        "* elif (if else) statement\n",
        "\n",
        "##Day 4\n",
        "Dictionaries are combinations of lists, variables and object.\n",
        "they are also containers that combine lists,variables and object.\n",
        "\n",
        "\n",
        "\n",
        "\n",
        "\n",
        "\n",
        "\n",
        "\n"
      ]
    },
    {
      "cell_type": "code",
      "execution_count": null,
      "metadata": {
        "colab": {
          "base_uri": "https://localhost:8080/"
        },
        "id": "6NUCgJYsQhP1",
        "outputId": "630477c1-0d1a-4a52-e6cd-1578744be5ee"
      },
      "outputs": [
        {
          "output_type": "stream",
          "name": "stdout",
          "text": [
            "kofi\n",
            "kofi is a boy\n",
            "4\n",
            "Hi mom\n",
            "Hi dad\n",
            "<class 'str'>\n",
            "<class 'str'>\n",
            "<class 'str'>\n"
          ]
        }
      ],
      "source": [
        "# Creating a variable of type string\n",
        "name = \"kofi\"\n",
        "sentence = \"kofi is a boy\"\n",
        "special_string = \"4\"\n",
        "myVariable = \"Hi mom\"\n",
        "myVariable2 = \"Hi dad\"\n",
        "\n",
        "# Print out the variables\n",
        "print(name)\n",
        "print(sentence)\n",
        "print(special_string)\n",
        "print(myVariable)\n",
        "print(myVariable2)\n",
        "\n",
        "# Check the variable types\n",
        "print(type(name))\n",
        "print(type(sentence))\n",
        "print(type(special_string))"
      ]
    },
    {
      "cell_type": "code",
      "execution_count": null,
      "metadata": {
        "colab": {
          "base_uri": "https://localhost:8080/"
        },
        "id": "A8yUNrLHXA3N",
        "outputId": "7950cb16-1d8d-4b39-bd48-6da7514e018c"
      },
      "outputs": [
        {
          "output_type": "stream",
          "name": "stdout",
          "text": [
            "my age is  15\n",
            "15\n",
            "20\n",
            "21\n",
            "<class 'int'>\n",
            "<class 'int'>\n"
          ]
        }
      ],
      "source": [
        "# Create an integer variable\n",
        "age1 = 15\n",
        "age2 = 20\n",
        "age3 = 21\n",
        "print(\"my age is \",age1)\n",
        "print(age1)\n",
        "print(age2)\n",
        "print(age3)\n",
        "\n",
        "print(type(age1))\n",
        "print(type(age2))\n"
      ]
    },
    {
      "cell_type": "code",
      "execution_count": null,
      "metadata": {
        "colab": {
          "base_uri": "https://localhost:8080/"
        },
        "id": "-n2E4M-iYsH7",
        "outputId": "d6b6b374-c7a0-4c7b-dff5-c1775032ba94"
      },
      "outputs": [
        {
          "output_type": "stream",
          "name": "stdout",
          "text": [
            "The price of kenkey in Ghana is 7.0\n",
            "<class 'float'>\n"
          ]
        }
      ],
      "source": [
        "# Create a floating pint number\n",
        "kenkey_price = 7.00\n",
        "kenkey_price\n",
        "# Use a different variable name for print to avoid conflict\n",
        "# my_print = print\n",
        "print(\"The price of kenkey in Ghana is\",kenkey_price)\n",
        "\n",
        "print(type(kenkey_price))"
      ]
    },
    {
      "cell_type": "code",
      "execution_count": null,
      "metadata": {
        "colab": {
          "base_uri": "https://localhost:8080/"
        },
        "id": "VnxML692f5wu",
        "outputId": "bcc96a54-a273-49d2-a2c3-4187230a5cef"
      },
      "outputs": [
        {
          "output_type": "stream",
          "name": "stdout",
          "text": [
            "False\n",
            "True\n",
            "<class 'bool'>\n"
          ]
        }
      ],
      "source": [
        "# Create a boolean type variable\n",
        "is_sunny = True\n",
        "is_rainy = False\n",
        "print(is_rainy)\n",
        "print(is_sunny)\n",
        "\n",
        "print(type(is_sunny))"
      ]
    },
    {
      "cell_type": "code",
      "execution_count": null,
      "metadata": {
        "colab": {
          "base_uri": "https://localhost:8080/"
        },
        "id": "jzPGK4mviT3y",
        "outputId": "f181898b-ee22-4127-91e4-4ebfcca5dc02"
      },
      "outputs": [
        {
          "output_type": "stream",
          "name": "stdout",
          "text": [
            "form a sentece with the variables: kofi\n",
            "form a sentence with the variable: Hi dad\n",
            "Hi dad i need a computer\n"
          ]
        }
      ],
      "source": [
        "# Variable operation\n",
        "# The addition operator\n",
        "# Add strings\n",
        "space = \" \"\n",
        "colon = \":\"\n",
        "# Use a different variable name for print to avoid conflict\n",
        "# my_print = print\n",
        "print(\"form a sentece with the variables:\", name)\n",
        "#print(name + colon + space + sentence)\n",
        "# Task is create string variable and form a sentence with it\n",
        "print(\"form a sentence with the variable:\", myVariable2)\n",
        "myVariable4 = \"i need a computer\"\n",
        "print(myVariable2 + space + myVariable4)\n",
        "# Add integers\n",
        "# Add floats\n",
        "# Add boolean\n",
        "# Add string integer or float"
      ]
    },
    {
      "cell_type": "markdown",
      "metadata": {
        "id": "z8ytFb87rRjw"
      },
      "source": [
        "## Homework\n",
        "* Add integers\n",
        "* Add float\n",
        "* Add string integer or float"
      ]
    },
    {
      "cell_type": "code",
      "execution_count": null,
      "metadata": {
        "colab": {
          "base_uri": "https://localhost:8080/"
        },
        "id": "enlJ_p2Nro0A",
        "outputId": "820877ca-93a5-4b84-affd-617ce4fa25dd"
      },
      "outputs": [
        {
          "output_type": "stream",
          "name": "stdout",
          "text": [
            "The [rice of salmon in Ghana is] 15.0\n",
            "The price of fish in Ghana is 10.0\n",
            "<class 'float'>\n"
          ]
        },
        {
          "output_type": "execute_result",
          "data": {
            "text/plain": [
              "25.0"
            ]
          },
          "metadata": {},
          "execution_count": 6
        }
      ],
      "source": [
        "# Homework 1\n",
        "# Add float\n",
        "\n",
        "salmon_price = 15.00\n",
        "salmon_price\n",
        "print(\"The [rice of salmon in Ghana is]\",salmon_price)\n",
        "fish_price = 10.00\n",
        "fish_price\n",
        "print(\"The price of fish in Ghana is\",fish_price)\n",
        "print(type(fish_price))\n",
        "\n",
        "salmon_price + fish_price\n"
      ]
    },
    {
      "cell_type": "code",
      "execution_count": null,
      "metadata": {
        "colab": {
          "base_uri": "https://localhost:8080/"
        },
        "id": "JdwgAOfzKQ_o",
        "outputId": "f37eebfa-c9a3-418d-b9fe-457df5bcd7b6"
      },
      "outputs": [
        {
          "output_type": "stream",
          "name": "stdout",
          "text": [
            "37\n",
            "<class 'int'>\n",
            "<class 'int'>\n",
            "my age is  18\n",
            "my age is  19\n"
          ]
        },
        {
          "output_type": "execute_result",
          "data": {
            "text/plain": [
              "37"
            ]
          },
          "metadata": {},
          "execution_count": 7
        }
      ],
      "source": [
        "# Homework 2\n",
        "# Add integer\n",
        "\n",
        "age2=18\n",
        "age5=19\n",
        "print(age2+age5)\n",
        "print(type(age2))\n",
        "print(type(age5))\n",
        "print(\"my age is \", age2)\n",
        "print(\"my age is \", age5)\n",
        "age2+age5"
      ]
    },
    {
      "cell_type": "code",
      "execution_count": null,
      "metadata": {
        "colab": {
          "base_uri": "https://localhost:8080/"
        },
        "id": "_FrVVjlmKQzw",
        "outputId": "df693a3c-88aa-4894-f1e7-b82fcc065cfb"
      },
      "outputs": [
        {
          "metadata": {
            "tags": null
          },
          "name": "stdout",
          "output_type": "stream",
          "text": [
            "Hello Fiifi\n",
            "my age is 15\n",
            "Your height is ('my height is', 7.5) meters\n"
          ]
        }
      ],
      "source": [
        "# Add string integer or float\n",
        "#string\n",
        "\n",
        "name = (\"Fiifi\")\n",
        "print(\"Hello\", name)\n",
        "\n",
        "# integer\n",
        "age = 15\n",
        "print(\"my age is\", age)\n",
        "\n",
        "# float\n",
        "float_number = 7.5\n",
        "height = (\"my height is\", float_number)\n",
        "print(\"Your height is\", height, \"meters\")\n",
        "\n",
        "input(\"what is your \")\n",
        "\n",
        "name_of_a_boy = \"Kofi\"\n",
        "age_of_Kofi = 15\n",
        "\n"
      ]
    },
    {
      "cell_type": "code",
      "execution_count": null,
      "metadata": {
        "id": "FPsBhlxE1OMx"
      },
      "outputs": [],
      "source": [
        "num1 = 4\n",
        "num2 =12\n",
        "num1 - num2\n",
        "\n",
        "num1 * num2\n",
        "num1 / num2"
      ]
    },
    {
      "cell_type": "code",
      "execution_count": null,
      "metadata": {
        "id": "vytMivIk4WLZ"
      },
      "outputs": [],
      "source": [
        "# Lets build a simple calculator\n",
        "def my_calculator(num1,num2):\n",
        "  sum = num1 + num2\n",
        "  return sum\n",
        "my_calculator(4,12)"
      ]
    },
    {
      "cell_type": "code",
      "execution_count": null,
      "metadata": {
        "id": "DfkhNFAC6oYE"
      },
      "outputs": [],
      "source": [
        "def my_calculator1(num1,num2):\n",
        "   sub = num1 - num2\n",
        "   return sub\n",
        "my_calculator1(72,99)"
      ]
    },
    {
      "cell_type": "code",
      "execution_count": null,
      "metadata": {
        "id": "G-ksAZ5c7g8O"
      },
      "outputs": [],
      "source": [
        "def my_calculator2(num1,num2,num3):\n",
        "    sub = num1 * num2 *num3\n",
        "    return sub\n",
        "my_calculator2(4,8,9)\n"
      ]
    },
    {
      "cell_type": "code",
      "execution_count": null,
      "metadata": {
        "id": "IU-UICZg_aIY"
      },
      "outputs": [],
      "source": [
        "def my_calculator3(num1,num):\n",
        "    sub = num1 / num2\n",
        "    return sub\n",
        "my_calculator3(2,10)"
      ]
    },
    {
      "cell_type": "code",
      "execution_count": null,
      "metadata": {
        "id": "960-WiEo_vzI"
      },
      "outputs": [],
      "source": [
        "def my_calculator3(num1,num2):\n",
        "  div = num1 ** num2\n",
        "  return div\n",
        "my_calculator3(2,4)"
      ]
    },
    {
      "cell_type": "code",
      "execution_count": null,
      "metadata": {
        "id": "FjL0OzZEC1ZI"
      },
      "outputs": [],
      "source": [
        "# Lets create a simple python programme that can accept a username and display  an output\n",
        "input_your_name = input(\"Please enter your name😁😁😁:\")\n",
        "print(\"Hello\",input_your_name,\"How are you doing today?\")\n",
        "print(\"Am fine thank you\")\n"
      ]
    },
    {
      "cell_type": "code",
      "execution_count": null,
      "metadata": {
        "id": "VJwEzqhbEqqu"
      },
      "outputs": [],
      "source": [
        "# Homework 2\n",
        "# Create a simple dialogue using the in out function\n",
        "\n",
        "input_your_name = input(\"Please enter your name:\")\n",
        "print(\"Hi\",input_your_name,\"How is the weahther today?\")\n",
        "print(\"It seems to be cloudy\")\n"
      ]
    },
    {
      "cell_type": "code",
      "execution_count": null,
      "metadata": {
        "id": "smKj9-TCiXzT"
      },
      "outputs": [],
      "source": [
        "#Combine all mini calculators to one giant calculator\n",
        "\n",
        "print(\"This is a simple calculator\")\n",
        "print(\"Choose an operation:\")\n",
        "print(\"1. Add\")\n",
        "print(\"2. Subtract\")\n",
        "print(\"3. Multiply\")\n",
        "print(\"4. Divide\")\n",
        "\n",
        "choice = input(\"Enter choice (1/2/3/4):\")\n",
        "a =int(input(\"Enter first number:\"))\n",
        "b =int(input(\"Enter second number:\"))\n",
        "\n",
        "if choice == '1':\n",
        "    result = a + b\n",
        "    print(a, \"+\", b, \"=\", result)\n",
        "elif choice == '2':\n",
        "    result = a - b\n",
        "    print(a, \"-\", b, \"=\", result)\n",
        "elif choice == '3':\n",
        "    result = a * b\n",
        "    print(a, \"*\", b, \"=\", result)\n",
        "elif choice == '4':\n",
        "    result = a / b\n",
        "    print(a, \"/\", b, \"=\", result)\n",
        "else:\n",
        "    print(\"Invalid input\")"
      ]
    },
    {
      "cell_type": "code",
      "execution_count": null,
      "metadata": {
        "id": "W7ns4aCcFAlU"
      },
      "outputs": [],
      "source": [
        "# Create a list if strings of names starting with the letter\n",
        "names_k = [\"kofi\",\"kwame\",\"kirk\",\"kwaku\",\"kwesi\"]\n",
        "print(names_k)"
      ]
    },
    {
      "cell_type": "code",
      "execution_count": null,
      "metadata": {
        "id": "yzLIiGtaH8XH"
      },
      "outputs": [],
      "source": [
        "# Remove the last name\n",
        "\n",
        "names_k.pop()\n",
        "print(names_k)"
      ]
    },
    {
      "cell_type": "code",
      "execution_count": null,
      "metadata": {
        "id": "iGvTdJ0eI0SZ"
      },
      "outputs": [],
      "source": [
        "# LETS ADD ONE MORE NAME\n",
        "\n",
        "names_k.append(\"kwesi\")\n",
        "print(names_k)"
      ]
    },
    {
      "cell_type": "code",
      "execution_count": null,
      "metadata": {
        "id": "lKxvmsnqJkVL"
      },
      "outputs": [],
      "source": [
        "# Lets add one more to the beggining of the list using index\n",
        "\n",
        "names_k.insert(0,\"kwaku\")\n",
        "print(names_k)"
      ]
    },
    {
      "cell_type": "code",
      "execution_count": null,
      "metadata": {
        "id": "iSMdrbRqKaVw"
      },
      "outputs": [],
      "source": [
        "#Task\n",
        "\n",
        "names_k.insert(1,\"kwaku\")\n",
        "print(names_k)"
      ]
    },
    {
      "cell_type": "code",
      "execution_count": null,
      "metadata": {
        "id": "2JR7BkRqLKde"
      },
      "outputs": [],
      "source": [
        "# create a list of numbers\n",
        "\n",
        "numbers = [2,3,5,7,11,13,17,19,23,29]\n",
        "print(numbers)"
      ]
    },
    {
      "cell_type": "code",
      "execution_count": null,
      "metadata": {
        "id": "mJrvbFrOMM7o"
      },
      "outputs": [],
      "source": [
        "numbers.pop()\n",
        "print(numbers)\n"
      ]
    },
    {
      "cell_type": "code",
      "execution_count": null,
      "metadata": {
        "id": "0OES-SkuMitN"
      },
      "outputs": [],
      "source": [
        "numbers.append(29)\n",
        "print(numbers)"
      ]
    },
    {
      "cell_type": "code",
      "execution_count": null,
      "metadata": {
        "id": "w0nRZCKEMray"
      },
      "outputs": [],
      "source": [
        "numbers.insert(5,11)\n",
        "print(numbers)"
      ]
    },
    {
      "cell_type": "code",
      "execution_count": null,
      "metadata": {
        "id": "GApCsJu4ORn2"
      },
      "outputs": [],
      "source": [
        "# Use the for loop toloop through\n",
        "for i in numbers:\n",
        "  print(i)"
      ]
    },
    {
      "cell_type": "code",
      "execution_count": null,
      "metadata": {
        "id": "vwfM8P7oOxe3"
      },
      "outputs": [],
      "source": [
        "# Lets get a section in numbers, form index 0 to 7 using for\n",
        "for i in numbers[0:7]:\n",
        "  print(i)\n",
        "\n"
      ]
    },
    {
      "cell_type": "code",
      "source": [
        "# Decisons and conditionals\n",
        "# Create a statement that tells whether you are able old enough to drive or not\n",
        "age = 23\n",
        "if age >= 18:\n",
        "  print(\"You are old enough to drive\")\n",
        "else:\n",
        "  print(\"You are not old enough to drive\")\n",
        "\n",
        "\n"
      ],
      "metadata": {
        "id": "QxuljF88Oi2-"
      },
      "execution_count": null,
      "outputs": []
    },
    {
      "cell_type": "code",
      "source": [
        "Student = 70\n",
        "Student = 65\n",
        "Student =50\n",
        "Student = 45\n",
        "\n",
        "if Student >= 75:\n",
        "  print(\"you got a B\")\n",
        "elif Student >= 65:\n",
        "  print(\"you got a C\")\n",
        "else:\n",
        " print(\"you got a D\")"
      ],
      "metadata": {
        "id": "RZFVE708QUEY"
      },
      "execution_count": null,
      "outputs": []
    },
    {
      "cell_type": "code",
      "source": [
        "# Lets create a dictional of a student profile\n",
        "student_details = {\n",
        "    \"name\": \"Fiifi\",\n",
        "    \"age\": 15,\n",
        "    \"gender\": \"male\",\n",
        "    \"is_enrolled\": True,\n",
        "    \"course\": \"python progremming\"\n",
        "}\n",
        "print(student_details)"
      ],
      "metadata": {
        "id": "VGzkyk7oX-Ji"
      },
      "execution_count": null,
      "outputs": []
    },
    {
      "cell_type": "code",
      "source": [
        "#Lets create a dictionary on my phone\n",
        "phone_details = {\n",
        "   \"model\": \"iphone eleven\",\n",
        "   \"color\":\"red\",\n",
        "    \"IOS\" : 26.1,\n",
        "   \"storage\": 356\n",
        "\n",
        "}\n",
        "print(phone_details)"
      ],
      "metadata": {
        "id": "iFJRa1bSWSqd"
      },
      "execution_count": null,
      "outputs": []
    },
    {
      "cell_type": "code",
      "source": [
        "#Lets create a dictionary of the regions in Ghana, their capital, and their population\n",
        "regions_gh = {\n",
        "    \"regions\":[\"greater accra\",\"asanti\",\"volta\",\"central\"],\n",
        "    \"capitals\":[\"accra\",\"kumasi\",\"Ho\", \"Cape Coast\"],\n",
        "    \"population\":[5455692,1500000,180420,1659040]\n",
        "}\n",
        "print(regions_gh)"
      ],
      "metadata": {
        "id": "k4WO2SaTc_Mz"
      },
      "execution_count": null,
      "outputs": []
    },
    {
      "cell_type": "code",
      "source": [
        "#Lets use pandas to organize this dictionary\n",
        "import pandas as pd\n",
        "regions_gh_df = pd.DataFrame(regions_gh)\n",
        "print(regions_gh_df)\n"
      ],
      "metadata": {
        "id": "sRw3DwEOZ6W2"
      },
      "execution_count": null,
      "outputs": []
    },
    {
      "cell_type": "code",
      "source": [
        "#create a list of floating point numbers that contains the prices of food stuff in Ghana\n",
        "\n",
        "#use delete to remove one itemfrom the list\n",
        "food_prices = [10.5, 12.20, 80.00, 20.30, 50.00]\n",
        "print(food_prices)\n",
        "del food_prices[3]\n",
        "print(food_prices)\n",
        "\n",
        "#use the insert to add more item  the list.\n",
        "food_prices.insert(3,20.30)\n",
        "print(food_prices)\n",
        "\n"
      ],
      "metadata": {
        "id": "DjimGOP6aFR_",
        "colab": {
          "base_uri": "https://localhost:8080/"
        },
        "outputId": "2ded01e8-7b15-4b95-ab3d-aba331afeb63"
      },
      "execution_count": null,
      "outputs": [
        {
          "output_type": "stream",
          "name": "stdout",
          "text": [
            "[10.5, 12.2, 80.0, 20.3, 50.0]\n",
            "[10.5, 12.2, 80.0, 50.0]\n",
            "[10.5, 12.2, 80.0, 20.3, 50.0]\n"
          ]
        }
      ]
    },
    {
      "cell_type": "code",
      "source": [
        "#Create a dictionary of your choice\n",
        "desktop_details = {\n",
        "    \"name\": \"Dell\",\n",
        "    \"windows\" : 11,\n",
        "    \"color\" : \"black\",\n",
        "    \"storage\": 438,\n",
        "    \"Graphics card\":225,\n",
        "\n",
        "\n",
        "\n",
        "\n",
        "}\n",
        "\n",
        "print(desktop_details)\n",
        "\n",
        "\n",
        "\n"
      ],
      "metadata": {
        "id": "yQ5XBZKRcf0c",
        "colab": {
          "base_uri": "https://localhost:8080/"
        },
        "outputId": "51b1586d-549e-4846-aa5a-5b3c4d9d57ac"
      },
      "execution_count": null,
      "outputs": [
        {
          "output_type": "stream",
          "name": "stdout",
          "text": [
            "{'name': 'Dell', 'windows': 11, 'color': 'black', 'storage': 438, 'Graphics card': 225}\n"
          ]
        }
      ]
    },
    {
      "cell_type": "code",
      "source": [
        "!pip install gradio"
      ],
      "metadata": {
        "colab": {
          "base_uri": "https://localhost:8080/"
        },
        "id": "r0l9LIjcj5ur",
        "outputId": "25f1554d-cee8-4d12-d427-d6c78365e487"
      },
      "execution_count": null,
      "outputs": [
        {
          "output_type": "stream",
          "name": "stdout",
          "text": [
            "Requirement already satisfied: gradio in /usr/local/lib/python3.12/dist-packages (5.49.1)\n",
            "Requirement already satisfied: aiofiles<25.0,>=22.0 in /usr/local/lib/python3.12/dist-packages (from gradio) (24.1.0)\n",
            "Requirement already satisfied: anyio<5.0,>=3.0 in /usr/local/lib/python3.12/dist-packages (from gradio) (4.11.0)\n",
            "Requirement already satisfied: brotli>=1.1.0 in /usr/local/lib/python3.12/dist-packages (from gradio) (1.1.0)\n",
            "Requirement already satisfied: fastapi<1.0,>=0.115.2 in /usr/local/lib/python3.12/dist-packages (from gradio) (0.119.1)\n",
            "Requirement already satisfied: ffmpy in /usr/local/lib/python3.12/dist-packages (from gradio) (0.6.3)\n",
            "Requirement already satisfied: gradio-client==1.13.3 in /usr/local/lib/python3.12/dist-packages (from gradio) (1.13.3)\n",
            "Requirement already satisfied: groovy~=0.1 in /usr/local/lib/python3.12/dist-packages (from gradio) (0.1.2)\n",
            "Requirement already satisfied: httpx<1.0,>=0.24.1 in /usr/local/lib/python3.12/dist-packages (from gradio) (0.28.1)\n",
            "Requirement already satisfied: huggingface-hub<2.0,>=0.33.5 in /usr/local/lib/python3.12/dist-packages (from gradio) (0.35.3)\n",
            "Requirement already satisfied: jinja2<4.0 in /usr/local/lib/python3.12/dist-packages (from gradio) (3.1.6)\n",
            "Requirement already satisfied: markupsafe<4.0,>=2.0 in /usr/local/lib/python3.12/dist-packages (from gradio) (3.0.3)\n",
            "Requirement already satisfied: numpy<3.0,>=1.0 in /usr/local/lib/python3.12/dist-packages (from gradio) (2.0.2)\n",
            "Requirement already satisfied: orjson~=3.0 in /usr/local/lib/python3.12/dist-packages (from gradio) (3.11.3)\n",
            "Requirement already satisfied: packaging in /usr/local/lib/python3.12/dist-packages (from gradio) (25.0)\n",
            "Requirement already satisfied: pandas<3.0,>=1.0 in /usr/local/lib/python3.12/dist-packages (from gradio) (2.2.2)\n",
            "Requirement already satisfied: pillow<12.0,>=8.0 in /usr/local/lib/python3.12/dist-packages (from gradio) (11.3.0)\n",
            "Requirement already satisfied: pydantic<2.12,>=2.0 in /usr/local/lib/python3.12/dist-packages (from gradio) (2.11.10)\n",
            "Requirement already satisfied: pydub in /usr/local/lib/python3.12/dist-packages (from gradio) (0.25.1)\n",
            "Requirement already satisfied: python-multipart>=0.0.18 in /usr/local/lib/python3.12/dist-packages (from gradio) (0.0.20)\n",
            "Requirement already satisfied: pyyaml<7.0,>=5.0 in /usr/local/lib/python3.12/dist-packages (from gradio) (6.0.3)\n",
            "Requirement already satisfied: ruff>=0.9.3 in /usr/local/lib/python3.12/dist-packages (from gradio) (0.14.1)\n",
            "Requirement already satisfied: safehttpx<0.2.0,>=0.1.6 in /usr/local/lib/python3.12/dist-packages (from gradio) (0.1.6)\n",
            "Requirement already satisfied: semantic-version~=2.0 in /usr/local/lib/python3.12/dist-packages (from gradio) (2.10.0)\n",
            "Requirement already satisfied: starlette<1.0,>=0.40.0 in /usr/local/lib/python3.12/dist-packages (from gradio) (0.48.0)\n",
            "Requirement already satisfied: tomlkit<0.14.0,>=0.12.0 in /usr/local/lib/python3.12/dist-packages (from gradio) (0.13.3)\n",
            "Requirement already satisfied: typer<1.0,>=0.12 in /usr/local/lib/python3.12/dist-packages (from gradio) (0.20.0)\n",
            "Requirement already satisfied: typing-extensions~=4.0 in /usr/local/lib/python3.12/dist-packages (from gradio) (4.15.0)\n",
            "Requirement already satisfied: uvicorn>=0.14.0 in /usr/local/lib/python3.12/dist-packages (from gradio) (0.38.0)\n",
            "Requirement already satisfied: fsspec in /usr/local/lib/python3.12/dist-packages (from gradio-client==1.13.3->gradio) (2025.3.0)\n",
            "Requirement already satisfied: websockets<16.0,>=13.0 in /usr/local/lib/python3.12/dist-packages (from gradio-client==1.13.3->gradio) (15.0.1)\n",
            "Requirement already satisfied: idna>=2.8 in /usr/local/lib/python3.12/dist-packages (from anyio<5.0,>=3.0->gradio) (3.11)\n",
            "Requirement already satisfied: sniffio>=1.1 in /usr/local/lib/python3.12/dist-packages (from anyio<5.0,>=3.0->gradio) (1.3.1)\n",
            "Requirement already satisfied: certifi in /usr/local/lib/python3.12/dist-packages (from httpx<1.0,>=0.24.1->gradio) (2025.10.5)\n",
            "Requirement already satisfied: httpcore==1.* in /usr/local/lib/python3.12/dist-packages (from httpx<1.0,>=0.24.1->gradio) (1.0.9)\n",
            "Requirement already satisfied: h11>=0.16 in /usr/local/lib/python3.12/dist-packages (from httpcore==1.*->httpx<1.0,>=0.24.1->gradio) (0.16.0)\n",
            "Requirement already satisfied: filelock in /usr/local/lib/python3.12/dist-packages (from huggingface-hub<2.0,>=0.33.5->gradio) (3.20.0)\n",
            "Requirement already satisfied: requests in /usr/local/lib/python3.12/dist-packages (from huggingface-hub<2.0,>=0.33.5->gradio) (2.32.4)\n",
            "Requirement already satisfied: tqdm>=4.42.1 in /usr/local/lib/python3.12/dist-packages (from huggingface-hub<2.0,>=0.33.5->gradio) (4.67.1)\n",
            "Requirement already satisfied: hf-xet<2.0.0,>=1.1.3 in /usr/local/lib/python3.12/dist-packages (from huggingface-hub<2.0,>=0.33.5->gradio) (1.1.10)\n",
            "Requirement already satisfied: python-dateutil>=2.8.2 in /usr/local/lib/python3.12/dist-packages (from pandas<3.0,>=1.0->gradio) (2.9.0.post0)\n",
            "Requirement already satisfied: pytz>=2020.1 in /usr/local/lib/python3.12/dist-packages (from pandas<3.0,>=1.0->gradio) (2025.2)\n",
            "Requirement already satisfied: tzdata>=2022.7 in /usr/local/lib/python3.12/dist-packages (from pandas<3.0,>=1.0->gradio) (2025.2)\n",
            "Requirement already satisfied: annotated-types>=0.6.0 in /usr/local/lib/python3.12/dist-packages (from pydantic<2.12,>=2.0->gradio) (0.7.0)\n",
            "Requirement already satisfied: pydantic-core==2.33.2 in /usr/local/lib/python3.12/dist-packages (from pydantic<2.12,>=2.0->gradio) (2.33.2)\n",
            "Requirement already satisfied: typing-inspection>=0.4.0 in /usr/local/lib/python3.12/dist-packages (from pydantic<2.12,>=2.0->gradio) (0.4.2)\n",
            "Requirement already satisfied: click>=8.0.0 in /usr/local/lib/python3.12/dist-packages (from typer<1.0,>=0.12->gradio) (8.3.0)\n",
            "Requirement already satisfied: shellingham>=1.3.0 in /usr/local/lib/python3.12/dist-packages (from typer<1.0,>=0.12->gradio) (1.5.4)\n",
            "Requirement already satisfied: rich>=10.11.0 in /usr/local/lib/python3.12/dist-packages (from typer<1.0,>=0.12->gradio) (13.9.4)\n",
            "Requirement already satisfied: six>=1.5 in /usr/local/lib/python3.12/dist-packages (from python-dateutil>=2.8.2->pandas<3.0,>=1.0->gradio) (1.17.0)\n",
            "Requirement already satisfied: markdown-it-py>=2.2.0 in /usr/local/lib/python3.12/dist-packages (from rich>=10.11.0->typer<1.0,>=0.12->gradio) (4.0.0)\n",
            "Requirement already satisfied: pygments<3.0.0,>=2.13.0 in /usr/local/lib/python3.12/dist-packages (from rich>=10.11.0->typer<1.0,>=0.12->gradio) (2.19.2)\n",
            "Requirement already satisfied: charset_normalizer<4,>=2 in /usr/local/lib/python3.12/dist-packages (from requests->huggingface-hub<2.0,>=0.33.5->gradio) (3.4.4)\n",
            "Requirement already satisfied: urllib3<3,>=1.21.1 in /usr/local/lib/python3.12/dist-packages (from requests->huggingface-hub<2.0,>=0.33.5->gradio) (2.5.0)\n",
            "Requirement already satisfied: mdurl~=0.1 in /usr/local/lib/python3.12/dist-packages (from markdown-it-py>=2.2.0->rich>=10.11.0->typer<1.0,>=0.12->gradio) (0.1.2)\n"
          ]
        }
      ]
    },
    {
      "cell_type": "code",
      "source": [
        "import gradio as gr\n",
        "\n",
        "def calculator(num1, operator, num2):\n",
        "  if operator == '+':\n",
        "    return num1 + num2\n",
        "  elif operator == '-':\n",
        "    return num1 - num2\n",
        "  elif operator == '*':\n",
        "    return num1 * num2\n",
        "  elif operator == '/':\n",
        "    if num2 == 0:\n",
        "      return \"Cannot divide by zero\"\n",
        "    return num1 / num2\n",
        "  else:\n",
        "    return \"Invalid operator\"\n",
        "\n",
        "interface = gr.Interface(\n",
        "    fn = calculator,\n",
        "    inputs = [gr.Number(label=\"Number 1\"), gr.Radio([\"+\", \"-\", \"*\", \"/\"], label=\"Operator\"), gr.Number(label=\"Number 2\")],\n",
        "    outputs =\"text\",\n",
        "    title =\"Fiifi's Calculator\"\n",
        ")\n",
        "interface.launch()"
      ],
      "metadata": {
        "colab": {
          "base_uri": "https://localhost:8080/",
          "height": 650
        },
        "id": "V2d8cuf-koLg",
        "outputId": "faefe6fc-c897-472e-9f85-e74cc2aec22f"
      },
      "execution_count": null,
      "outputs": [
        {
          "output_type": "stream",
          "name": "stdout",
          "text": [
            "It looks like you are running Gradio on a hosted Jupyter notebook, which requires `share=True`. Automatically setting `share=True` (you can turn this off by setting `share=False` in `launch()` explicitly).\n",
            "\n",
            "Colab notebook detected. To show errors in colab notebook, set debug=True in launch()\n",
            "* Running on public URL: https://e827755034af69cd8c.gradio.live\n",
            "\n",
            "This share link expires in 1 week. For free permanent hosting and GPU upgrades, run `gradio deploy` from the terminal in the working directory to deploy to Hugging Face Spaces (https://huggingface.co/spaces)\n"
          ]
        },
        {
          "output_type": "display_data",
          "data": {
            "text/plain": [
              "<IPython.core.display.HTML object>"
            ],
            "text/html": [
              "<div><iframe src=\"https://e827755034af69cd8c.gradio.live\" width=\"100%\" height=\"500\" allow=\"autoplay; camera; microphone; clipboard-read; clipboard-write;\" frameborder=\"0\" allowfullscreen></iframe></div>"
            ]
          },
          "metadata": {}
        },
        {
          "output_type": "execute_result",
          "data": {
            "text/plain": []
          },
          "metadata": {},
          "execution_count": 1
        }
      ]
    },
    {
      "cell_type": "code",
      "source": [
        "#build a simple website"
      ],
      "metadata": {
        "id": "ps_8FSQDnL-Z"
      },
      "execution_count": null,
      "outputs": []
    },
    {
      "cell_type": "code",
      "source": [
        "pip install pygame\n"
      ],
      "metadata": {
        "colab": {
          "base_uri": "https://localhost:8080/"
        },
        "id": "Fhq3I9Rea8d8",
        "outputId": "76e72419-fddd-4655-941a-39da7e90ce9e"
      },
      "execution_count": null,
      "outputs": [
        {
          "output_type": "stream",
          "name": "stdout",
          "text": [
            "Requirement already satisfied: pygame in /usr/local/lib/python3.12/dist-packages (2.6.1)\n"
          ]
        }
      ]
    },
    {
      "cell_type": "code",
      "source": [
        "import pygame\n",
        "import time\n",
        "import random\n",
        "\n",
        "# Initialize pygame\n",
        "pygame.init()\n",
        "\n",
        "# Set up screen\n",
        "width = 800\n",
        "height = 600\n",
        "screen = pygame.display.set_mode((width, height))\n",
        "pygame.display.set_caption('🐍 Snake Game by ChatGPT')\n",
        "\n",
        "# Colors\n",
        "black = pygame.Color(0, 0, 0)\n",
        "white = pygame.Color(255, 255, 255)\n",
        "red = pygame.Color(255, 0, 0)\n",
        "green = pygame.Color(0, 255, 0)\n",
        "blue = pygame.Color(0, 0, 255)\n",
        "\n",
        "# FPS controller\n",
        "clock = pygame.time.Clock()\n",
        "\n",
        "snake_block = 20\n",
        "snake_speed = 15\n",
        "\n",
        "font_style = pygame.font.SysFont(None, 50)\n",
        "score_font = pygame.font.SysFont(None, 35)\n",
        "\n",
        "\n",
        "def score_display(score):\n",
        "    value = score_font.render(f\"Score: {score}\", True, white)\n",
        "    screen.blit(value, [10, 10])\n",
        "\n",
        "\n",
        "def draw_snake(snake_block, snake_list):\n",
        "    for x in snake_list:\n",
        "        pygame.draw.rect(screen, green, [x[0], x[1], snake_block, snake_block])\n",
        "\n",
        "\n",
        "def message(msg, color):\n",
        "    mesg = font_style.render(msg, True, color)\n",
        "    screen.blit(mesg, [width / 6, height / 3])\n",
        "\n",
        "\n",
        "def game_loop():\n",
        "    game_over = False\n",
        "    game_close = False\n",
        "\n",
        "    # Starting position\n",
        "    x1 = width / 2\n",
        "    y1 = height / 2\n",
        "\n",
        "    x1_change = 0\n",
        "    y1_change = 0\n",
        "\n",
        "    snake_List = []\n",
        "    Length_of_snake = 1\n",
        "\n",
        "    foodx = round(random.randrange(0, width - snake_block) / 20.0) * 20.0\n",
        "    foody = round(random.randrange(0, height - snake_block) / 20.0) * 20.0\n",
        "\n",
        "    while not game_over:\n",
        "\n",
        "        while game_close:\n",
        "            screen.fill(black)\n",
        "            message(\"You Lost! Press Q-Quit or C-Play Again\", red)\n",
        "            score_display(Length_of_snake - 1)\n",
        "            pygame.display.update()\n",
        "\n",
        "            for event in pygame.event.get():\n",
        "                if event.type == pygame.KEYDOWN:\n",
        "                    if event.key == pygame.K_q:\n",
        "                        game_over = True\n",
        "                        game_close = False\n",
        "                    if event.key == pygame.K_c:\n",
        "                        game_loop()\n",
        "\n",
        "        # Movement handling\n",
        "        for event in pygame.event.get():\n",
        "            if event.type == pygame.QUIT:\n",
        "                game_over = True\n",
        "            if event.type == pygame.KEYDOWN:\n",
        "                if event.key == pygame.K_LEFT and x1_change == 0:\n",
        "                    x1_change = -snake_block\n",
        "                    y1_change = 0\n",
        "                elif event.key == pygame.K_RIGHT and x1_change == 0:\n",
        "                    x1_change = snake_block\n",
        "                    y1_change = 0\n",
        "                elif event.key == pygame.K_UP and y1_change == 0:\n",
        "                    y1_change = -snake_block\n",
        "                    x1_change = 0\n",
        "                elif event.key == pygame.K_DOWN and y1_change == 0:\n",
        "                    y1_change = snake_block\n",
        "                    x1_change = 0\n",
        "\n",
        "        # Check boundaries\n",
        "        if x1 >= width or x1 < 0 or y1 >= height or y1 < 0:\n",
        "            game_close = True\n",
        "\n",
        "        x1 += x1_change\n",
        "        y1 += y1_change\n",
        "        screen.fill(blue)\n",
        "        pygame.draw.rect(screen, red, [foodx, foody, snake_block, snake_block])\n",
        "        snake_Head = []\n",
        "        snake_Head.append(x1)\n",
        "        snake_Head.append(y1)\n",
        "        snake_List.append(snake_Head)\n",
        "\n",
        "        if len(snake_List) > Length_of_snake:\n",
        "            del snake_List[0]\n",
        "\n",
        "        for x in snake_List[:-1]:\n",
        "            if x == snake_Head:\n",
        "                game_close = True\n",
        "\n",
        "        draw_snake(snake_block, snake_List)\n",
        "        score_display(Length_of_snake - 1)\n",
        "\n",
        "        pygame.display.update()\n",
        "\n",
        "        # When snake eats food\n",
        "        if x1 == foodx and y1 == foody:\n",
        "            foodx = round(random.randrange(0, width - snake_block) / 20.0) * 20.0\n",
        "            foody = round(random.randrange(0, height - snake_block) / 20.0) * 20.0\n",
        "            Length_of_snake += 1\n",
        "\n",
        "        clock.tick(snake_speed)\n",
        "\n",
        "    pygame.quit()\n",
        "    quit()\n",
        "\n",
        "\n",
        "game_loop()\n"
      ],
      "metadata": {
        "colab": {
          "base_uri": "https://localhost:8080/"
        },
        "id": "BnhSKMDJbRAb",
        "outputId": "672b56e8-760c-42b8-9fce-152eeef37aff"
      },
      "execution_count": null,
      "outputs": [
        {
          "output_type": "stream",
          "name": "stdout",
          "text": [
            "pygame 2.6.1 (SDL 2.28.4, Python 3.12.12)\n",
            "Hello from the pygame community. https://www.pygame.org/contribute.html\n"
          ]
        }
      ]
    },
    {
      "cell_type": "code",
      "metadata": {
        "colab": {
          "base_uri": "https://localhost:8080/"
        },
        "id": "c442e54b",
        "outputId": "8c01d448-8b7b-4aeb-98ab-9b82344fb05d"
      },
      "source": [
        "from flask import Flask, render_template\n",
        "\n",
        "app = Flask(__name__)\n",
        "\n",
        "# Home Page\n",
        "@app.route('/')\n",
        "def home():\n",
        "    return render_template(\"index.html\")\n",
        "\n",
        "# About Page\n",
        "@app.route('/about')\n",
        "def about():\n",
        "    return render_template(\"about.html\")\n",
        "\n",
        "# Contact Page\n",
        "@app.route('/contact')\n",
        "def contact():\n",
        "    return render_template(\"contact.html\")\n",
        "\n",
        "if __name__ == '__main__':\n",
        "    app.run(debug=True)"
      ],
      "execution_count": null,
      "outputs": [
        {
          "output_type": "stream",
          "name": "stdout",
          "text": [
            " * Serving Flask app '__main__'\n",
            " * Debug mode: on\n"
          ]
        },
        {
          "output_type": "stream",
          "name": "stderr",
          "text": [
            "INFO:werkzeug:\u001b[31m\u001b[1mWARNING: This is a development server. Do not use it in a production deployment. Use a production WSGI server instead.\u001b[0m\n",
            " * Running on http://127.0.0.1:5000\n",
            "INFO:werkzeug:\u001b[33mPress CTRL+C to quit\u001b[0m\n",
            "INFO:werkzeug: * Restarting with watchdog (inotify)\n"
          ]
        }
      ]
    },
    {
      "cell_type": "markdown",
      "metadata": {
        "id": "636a05d5"
      },
      "source": [
        "And here is the content for `index.html`:"
      ]
    },
    {
      "cell_type": "code",
      "metadata": {
        "id": "c4b9eaf6"
      },
      "source": [
        "<!DOCTYPE html>\n",
        "<html>\n",
        "<head>\n",
        "    <title>Home - My Python Website</title>\n",
        "    <link rel=\"stylesheet\" href=\"{{ url_for('static', filename='style.css') }}\">\n",
        "</head>\n",
        "<body>\n",
        "    <h1>🏠 Welcome to My Website</h1>\n",
        "    <nav>\n",
        "        <a href=\"/\">Home</a> |\n",
        "        <a href=\"/about\">About</a> |\n",
        "        <a href=\"/contact\">Contact</a>\n",
        "    </nav>\n",
        "    <p>This site is powered by Python and Flask 🐍</p>\n",
        "</body>\n",
        "</html>"
      ],
      "execution_count": null,
      "outputs": []
    },
    {
      "cell_type": "markdown",
      "source": [
        "##GUIS PART 2\n",
        "* Turtle graphics"
      ],
      "metadata": {
        "id": "yLJswnz76fpF"
      }
    },
    {
      "cell_type": "code",
      "source": [
        "!pip install ColabturtlePlus"
      ],
      "metadata": {
        "colab": {
          "base_uri": "https://localhost:8080/"
        },
        "id": "NxQsDuiY6npn",
        "outputId": "1ddc63ec-cba5-49f1-d707-25f6da137f4d"
      },
      "execution_count": null,
      "outputs": [
        {
          "output_type": "stream",
          "name": "stdout",
          "text": [
            "Requirement already satisfied: ColabturtlePlus in /usr/local/lib/python3.12/dist-packages (2.0.1)\n"
          ]
        }
      ]
    },
    {
      "cell_type": "code",
      "source": [
        "# Import the libary Turtle graphics\n",
        "from ColabTurtlePlus.Turtle import *\n",
        "\n",
        "# Now lets use Turtle\n",
        "initializeTurtle()\n",
        "\n",
        "t = Turtle()\n",
        "t.speed(100) # Make it draw fast or slow\n",
        "t.forward(100)\n",
        "t.right(100)\n",
        "t.forward(100)\n",
        "t.right(100)\n",
        "t.forward(100)\n",
        "t.right(100)\n",
        "t.forward(100)\n",
        "t.right(100)"
      ],
      "metadata": {
        "colab": {
          "base_uri": "https://localhost:8080/",
          "height": 621
        },
        "id": "nijQ7Qvp7Ram",
        "outputId": "0cff3729-4170-422a-8312-9224c6275c1b"
      },
      "execution_count": null,
      "outputs": [
        {
          "output_type": "display_data",
          "data": {
            "text/plain": [
              "<IPython.core.display.HTML object>"
            ],
            "text/html": [
              "\n",
              "      <svg width=\"800\" height=\"600\">  \n",
              "        <rect width=\"100%\" height=\"100%\" style=\"fill:white;stroke:;stroke-width:1\"/>\n",
              "        \n",
              "        \n",
              "        <line x1=\"400.0\" y1=\"300.0\" x2=\"500.0\" y2=\"300.0\" stroke-linecap=\"round\" style=\"stroke:black;stroke-width:1\" /><line x1=\"500.0\" y1=\"300.0\" x2=\"482.635\" y2=\"398.481\" stroke-linecap=\"round\" style=\"stroke:black;stroke-width:1\" /><line x1=\"482.635\" y1=\"398.481\" x2=\"388.666\" y2=\"364.279\" stroke-linecap=\"round\" style=\"stroke:black;stroke-width:1\" /><line x1=\"388.666\" y1=\"364.279\" x2=\"438.666\" y2=\"277.676\" stroke-linecap=\"round\" style=\"stroke:black;stroke-width:1\" />\n",
              "        \n",
              "        \n",
              "        <g id=\"classic\" visibility=\"visible\" transform=\"rotate(-90,400.0,300.0) translate(400.0, 300.0)\">\n",
              "<polygon points=\"-5,-4.5 0,-2.5 5,-4.5 0,4.5\" transform=\"skewX(0) scale(1,1)\" style=\"stroke:black;fill:black;stroke-width:1\" />\n",
              "</g><g id=\"classic\" visibility=\"visible\" transform=\"rotate(-90,400.0,300.0) translate(400.0, 300.0)\">\n",
              "<polygon points=\"-5,-4.5 0,-2.5 5,-4.5 0,4.5\" transform=\"skewX(0) scale(1,1)\" style=\"stroke:black;fill:black;stroke-width:1\" />\n",
              "</g><g id=\"classic\" visibility=\"visible\" transform=\"rotate(-90,400.0,300.0) translate(400.0, 300.0)\">\n",
              "<polygon points=\"-5,-4.5 0,-2.5 5,-4.5 0,4.5\" transform=\"skewX(0) scale(1,1)\" style=\"stroke:black;fill:black;stroke-width:1\" />\n",
              "</g><g id=\"classic\" visibility=\"visible\" transform=\"rotate(-90,400.0,300.0) translate(400.0, 300.0)\">\n",
              "<polygon points=\"-5,-4.5 0,-2.5 5,-4.5 0,4.5\" transform=\"skewX(0) scale(1,1)\" style=\"stroke:black;fill:black;stroke-width:1\" />\n",
              "</g><g id=\"classic\" visibility=\"visible\" transform=\"rotate(-90,400.0,300.0) translate(400.0, 300.0)\">\n",
              "<polygon points=\"-5,-4.5 0,-2.5 5,-4.5 0,4.5\" transform=\"skewX(0) scale(1,1)\" style=\"stroke:black;fill:black;stroke-width:1\" />\n",
              "</g><g id=\"classic\" visibility=\"visible\" transform=\"rotate(-90,400.0,300.0) translate(400.0, 300.0)\">\n",
              "<polygon points=\"-5,-4.5 0,-2.5 5,-4.5 0,4.5\" transform=\"skewX(0) scale(1,1)\" style=\"stroke:black;fill:black;stroke-width:1\" />\n",
              "</g><g id=\"classic\" visibility=\"visible\" transform=\"rotate(-90,400.0,300.0) translate(400.0, 300.0)\">\n",
              "<polygon points=\"-5,-4.5 0,-2.5 5,-4.5 0,4.5\" transform=\"skewX(0) scale(1,1)\" style=\"stroke:black;fill:black;stroke-width:1\" />\n",
              "</g><g id=\"classic\" visibility=\"visible\" transform=\"rotate(-90,400.0,300.0) translate(400.0, 300.0)\">\n",
              "<polygon points=\"-5,-4.5 0,-2.5 5,-4.5 0,4.5\" transform=\"skewX(0) scale(1,1)\" style=\"stroke:black;fill:black;stroke-width:1\" />\n",
              "</g><g id=\"classic\" visibility=\"visible\" transform=\"rotate(-90,400.0,300.0) translate(400.0, 300.0)\">\n",
              "<polygon points=\"-5,-4.5 0,-2.5 5,-4.5 0,4.5\" transform=\"skewX(0) scale(1,1)\" style=\"stroke:black;fill:black;stroke-width:1\" />\n",
              "</g><g id=\"classic\" visibility=\"visible\" transform=\"rotate(-90,400.0,300.0) translate(400.0, 300.0)\">\n",
              "<polygon points=\"-5,-4.5 0,-2.5 5,-4.5 0,4.5\" transform=\"skewX(0) scale(1,1)\" style=\"stroke:black;fill:black;stroke-width:1\" />\n",
              "</g><g id=\"classic\" visibility=\"visible\" transform=\"rotate(-90,400.0,300.0) translate(400.0, 300.0)\">\n",
              "<polygon points=\"-5,-4.5 0,-2.5 5,-4.5 0,4.5\" transform=\"skewX(0) scale(1,1)\" style=\"stroke:black;fill:black;stroke-width:1\" />\n",
              "</g><g id=\"classic\" visibility=\"visible\" transform=\"rotate(-90,400.0,300.0) translate(400.0, 300.0)\">\n",
              "<polygon points=\"-5,-4.5 0,-2.5 5,-4.5 0,4.5\" transform=\"skewX(0) scale(1,1)\" style=\"stroke:black;fill:black;stroke-width:1\" />\n",
              "</g><g id=\"classic\" visibility=\"visible\" transform=\"rotate(-90,400.0,300.0) translate(400.0, 300.0)\">\n",
              "<polygon points=\"-5,-4.5 0,-2.5 5,-4.5 0,4.5\" transform=\"skewX(0) scale(1,1)\" style=\"stroke:black;fill:black;stroke-width:1\" />\n",
              "</g><g id=\"classic\" visibility=\"visible\" transform=\"rotate(-90,400.0,300.0) translate(400.0, 300.0)\">\n",
              "<polygon points=\"-5,-4.5 0,-2.5 5,-4.5 0,4.5\" transform=\"skewX(0) scale(1,1)\" style=\"stroke:black;fill:black;stroke-width:1\" />\n",
              "</g><g id=\"classic\" visibility=\"visible\" transform=\"rotate(-90,400.0,300.0) translate(400.0, 300.0)\">\n",
              "<polygon points=\"-5,-4.5 0,-2.5 5,-4.5 0,4.5\" transform=\"skewX(0) scale(1,1)\" style=\"stroke:black;fill:black;stroke-width:1\" />\n",
              "</g><g id=\"classic\" visibility=\"visible\" transform=\"rotate(-90,400.0,300.0) translate(400.0, 300.0)\">\n",
              "<polygon points=\"-5,-4.5 0,-2.5 5,-4.5 0,4.5\" transform=\"skewX(0) scale(1,1)\" style=\"stroke:black;fill:black;stroke-width:1\" />\n",
              "</g><g id=\"classic\" visibility=\"visible\" transform=\"rotate(-90,400.0,300.0) translate(400.0, 300.0)\">\n",
              "<polygon points=\"-5,-4.5 0,-2.5 5,-4.5 0,4.5\" transform=\"skewX(0) scale(1,1)\" style=\"stroke:black;fill:black;stroke-width:1\" />\n",
              "</g><g id=\"classic\" visibility=\"visible\" transform=\"rotate(-90,400.0,300.0) translate(400.0, 300.0)\">\n",
              "<polygon points=\"-5,-4.5 0,-2.5 5,-4.5 0,4.5\" transform=\"skewX(0) scale(1,1)\" style=\"stroke:black;fill:black;stroke-width:1\" />\n",
              "</g><g id=\"classic\" visibility=\"visible\" transform=\"rotate(-90,400.0,300.0) translate(400.0, 300.0)\">\n",
              "<polygon points=\"-5,-4.5 0,-2.5 5,-4.5 0,4.5\" transform=\"skewX(0) scale(1,1)\" style=\"stroke:black;fill:black;stroke-width:1\" />\n",
              "</g><g id=\"classic\" visibility=\"visible\" transform=\"rotate(-90,400.0,300.0) translate(400.0, 300.0)\">\n",
              "<polygon points=\"-5,-4.5 0,-2.5 5,-4.5 0,4.5\" transform=\"skewX(0) scale(1,1)\" style=\"stroke:black;fill:black;stroke-width:1\" />\n",
              "</g><g id=\"classic\" visibility=\"visible\" transform=\"rotate(-90,400.0,300.0) translate(400.0, 300.0)\">\n",
              "<polygon points=\"-5,-4.5 0,-2.5 5,-4.5 0,4.5\" transform=\"skewX(0) scale(1,1)\" style=\"stroke:black;fill:black;stroke-width:1\" />\n",
              "</g><g id=\"classic\" visibility=\"visible\" transform=\"rotate(-90,400.0,300.0) translate(400.0, 300.0)\">\n",
              "<polygon points=\"-5,-4.5 0,-2.5 5,-4.5 0,4.5\" transform=\"skewX(0) scale(1,1)\" style=\"stroke:black;fill:black;stroke-width:1\" />\n",
              "</g><g id=\"classic\" visibility=\"visible\" transform=\"rotate(-90,400.0,300.0) translate(400.0, 300.0)\">\n",
              "<polygon points=\"-5,-4.5 0,-2.5 5,-4.5 0,4.5\" transform=\"skewX(0) scale(1,1)\" style=\"stroke:black;fill:black;stroke-width:1\" />\n",
              "</g><g id=\"classic\" visibility=\"visible\" transform=\"rotate(-90,400.0,300.0) translate(400.0, 300.0)\">\n",
              "<polygon points=\"-5,-4.5 0,-2.5 5,-4.5 0,4.5\" transform=\"skewX(0) scale(1,1)\" style=\"stroke:black;fill:black;stroke-width:1\" />\n",
              "</g><g id=\"classic\" visibility=\"visible\" transform=\"rotate(-90,400.0,300.0) translate(400.0, 300.0)\">\n",
              "<polygon points=\"-5,-4.5 0,-2.5 5,-4.5 0,4.5\" transform=\"skewX(0) scale(1,1)\" style=\"stroke:black;fill:black;stroke-width:1\" />\n",
              "</g><g id=\"classic\" visibility=\"visible\" transform=\"rotate(-90,400.0,300.0) translate(400.0, 300.0)\">\n",
              "<polygon points=\"-5,-4.5 0,-2.5 5,-4.5 0,4.5\" transform=\"skewX(0) scale(1,1)\" style=\"stroke:black;fill:black;stroke-width:1\" />\n",
              "</g><g id=\"classic\" visibility=\"visible\" transform=\"rotate(-90,400.0,300.0) translate(400.0, 300.0)\">\n",
              "<polygon points=\"-5,-4.5 0,-2.5 5,-4.5 0,4.5\" transform=\"skewX(0) scale(1,1)\" style=\"stroke:black;fill:black;stroke-width:1\" />\n",
              "</g><g id=\"classic\" visibility=\"visible\" transform=\"rotate(210,438.666,277.676) translate(438.666, 277.676)\">\n",
              "<polygon points=\"-5,-4.5 0,-2.5 5,-4.5 0,4.5\" transform=\"skewX(0) scale(1,1)\" style=\"stroke:black;fill:black;stroke-width:1\" />\n",
              "<animateTransform id = \"one\" attributeName=\"transform\" \n",
              "                      type=\"scale\"\n",
              "                      from=\"1 1\" to=\"1 1\"\n",
              "                      begin=\"0s\" dur=\"0.01s\"\n",
              "                      repeatCount=\"1\"\n",
              "                      additive=\"sum\"\n",
              "                      fill=\"freeze\"\n",
              "                /><animateTransform attributeName=\"transform\"\n",
              "                    type=\"rotate\"\n",
              "                    from=\"0 0 0\" to =\"100 0 0\"\n",
              "                    begin=\"one.end\" dur=\"0.005555555555555556s\"\n",
              "                    repeatCount=\"1\"\n",
              "                    additive=\"sum\"\n",
              "                    fill=\"freeze\"\n",
              "                /></g>\n",
              "      </svg>\n",
              "    "
            ]
          },
          "metadata": {}
        }
      ]
    },
    {
      "cell_type": "code",
      "source": [
        "#Task\n",
        "#draw any shape\n",
        "\n",
        "from ColabTurtlePlus.Turtle import *\n",
        "initializeTurtle()\n",
        "t.forward(100)\n",
        "t.left(100)\n",
        "t.forward(100)\n",
        "t.right(100)\n",
        "t.forward(100)\n",
        "t.right(100)\n",
        "t.forward(200)\n",
        "t.right(100)\n",
        "t.forward(120)\n",
        "t.right(100)\n",
        "t.forward(100)\n",
        "\n"
      ],
      "metadata": {
        "colab": {
          "base_uri": "https://localhost:8080/",
          "height": 621
        },
        "id": "9VQbGY7eA8x9",
        "outputId": "2837ff34-8756-4015-844e-88cd86463aa6"
      },
      "execution_count": null,
      "outputs": [
        {
          "output_type": "display_data",
          "data": {
            "text/plain": [
              "<IPython.core.display.HTML object>"
            ],
            "text/html": [
              "\n",
              "      <svg width=\"800\" height=\"600\">  \n",
              "        <rect width=\"100%\" height=\"100%\" style=\"fill:white;stroke:;stroke-width:1\"/>\n",
              "        \n",
              "        \n",
              "        <line x1=\"400.0\" y1=\"300.0\" x2=\"500.0\" y2=\"300.0\" stroke-linecap=\"round\" style=\"stroke:black;stroke-width:1\" /><line x1=\"500.0\" y1=\"300.0\" x2=\"482.635\" y2=\"201.519\" stroke-linecap=\"round\" style=\"stroke:black;stroke-width:1\" /><line x1=\"482.635\" y1=\"201.519\" x2=\"582.635\" y2=\"201.519\" stroke-linecap=\"round\" style=\"stroke:black;stroke-width:1\" /><line x1=\"582.635\" y1=\"201.519\" x2=\"547.905\" y2=\"398.481\" stroke-linecap=\"round\" style=\"stroke:black;stroke-width:1\" /><line x1=\"547.905\" y1=\"398.481\" x2=\"435.142\" y2=\"357.439\" stroke-linecap=\"round\" style=\"stroke:black;stroke-width:1\" /><line x1=\"435.142\" y1=\"357.439\" x2=\"440.142\" y2=\"348.77874596215565\" stroke-linecap=\"round\" style=\"stroke:black;stroke-width:1\" /><line x1=\"440.142\" y1=\"348.77874596215565\" x2=\"445.142\" y2=\"340.1184919243113\" stroke-linecap=\"round\" style=\"stroke:black;stroke-width:1\" /><line x1=\"445.142\" y1=\"340.1184919243113\" x2=\"450.142\" y2=\"331.4582378864669\" stroke-linecap=\"round\" style=\"stroke:black;stroke-width:1\" /><line x1=\"450.142\" y1=\"331.4582378864669\" x2=\"455.142\" y2=\"322.79798384862255\" stroke-linecap=\"round\" style=\"stroke:black;stroke-width:1\" /><line x1=\"455.142\" y1=\"322.79798384862255\" x2=\"460.142\" y2=\"314.1377298107782\" stroke-linecap=\"round\" style=\"stroke:black;stroke-width:1\" /><line x1=\"460.142\" y1=\"314.1377298107782\" x2=\"465.142\" y2=\"305.4774757729338\" stroke-linecap=\"round\" style=\"stroke:black;stroke-width:1\" /><line x1=\"465.142\" y1=\"305.4774757729338\" x2=\"470.142\" y2=\"296.81722173508945\" stroke-linecap=\"round\" style=\"stroke:black;stroke-width:1\" /><line x1=\"470.142\" y1=\"296.81722173508945\" x2=\"475.142\" y2=\"288.1569676972451\" stroke-linecap=\"round\" style=\"stroke:black;stroke-width:1\" /><line x1=\"475.142\" y1=\"288.1569676972451\" x2=\"480.142\" y2=\"279.4967136594007\" stroke-linecap=\"round\" style=\"stroke:black;stroke-width:1\" /><line x1=\"480.142\" y1=\"279.4967136594007\" x2=\"485.142\" y2=\"270.83645962155634\" stroke-linecap=\"round\" style=\"stroke:black;stroke-width:1\" />\n",
              "        \n",
              "        \n",
              "        <g id=\"classic\" visibility=\"visible\" transform=\"rotate(-90,400.0,300.0) translate(400.0, 300.0)\">\n",
              "<polygon points=\"-5,-4.5 0,-2.5 5,-4.5 0,4.5\" transform=\"skewX(0) scale(1,1)\" style=\"stroke:black;fill:black;stroke-width:1\" />\n",
              "</g><g id=\"classic\" visibility=\"visible\" transform=\"rotate(-90,400.0,300.0) translate(400.0, 300.0)\">\n",
              "<polygon points=\"-5,-4.5 0,-2.5 5,-4.5 0,4.5\" transform=\"skewX(0) scale(1,1)\" style=\"stroke:black;fill:black;stroke-width:1\" />\n",
              "</g><g id=\"classic\" visibility=\"visible\" transform=\"rotate(-90,400.0,300.0) translate(400.0, 300.0)\">\n",
              "<polygon points=\"-5,-4.5 0,-2.5 5,-4.5 0,4.5\" transform=\"skewX(0) scale(1,1)\" style=\"stroke:black;fill:black;stroke-width:1\" />\n",
              "</g><g id=\"classic\" visibility=\"visible\" transform=\"rotate(-90,400.0,300.0) translate(400.0, 300.0)\">\n",
              "<polygon points=\"-5,-4.5 0,-2.5 5,-4.5 0,4.5\" transform=\"skewX(0) scale(1,1)\" style=\"stroke:black;fill:black;stroke-width:1\" />\n",
              "</g><g id=\"classic\" visibility=\"visible\" transform=\"rotate(-90,400.0,300.0) translate(400.0, 300.0)\">\n",
              "<polygon points=\"-5,-4.5 0,-2.5 5,-4.5 0,4.5\" transform=\"skewX(0) scale(1,1)\" style=\"stroke:black;fill:black;stroke-width:1\" />\n",
              "</g><g id=\"classic\" visibility=\"visible\" transform=\"rotate(-90,400.0,300.0) translate(400.0, 300.0)\">\n",
              "<polygon points=\"-5,-4.5 0,-2.5 5,-4.5 0,4.5\" transform=\"skewX(0) scale(1,1)\" style=\"stroke:black;fill:black;stroke-width:1\" />\n",
              "</g><g id=\"classic\" visibility=\"visible\" transform=\"rotate(-90,400.0,300.0) translate(400.0, 300.0)\">\n",
              "<polygon points=\"-5,-4.5 0,-2.5 5,-4.5 0,4.5\" transform=\"skewX(0) scale(1,1)\" style=\"stroke:black;fill:black;stroke-width:1\" />\n",
              "</g><g id=\"classic\" visibility=\"visible\" transform=\"rotate(-90,400.0,300.0) translate(400.0, 300.0)\">\n",
              "<polygon points=\"-5,-4.5 0,-2.5 5,-4.5 0,4.5\" transform=\"skewX(0) scale(1,1)\" style=\"stroke:black;fill:black;stroke-width:1\" />\n",
              "</g><g id=\"classic\" visibility=\"visible\" transform=\"rotate(-90,400.0,300.0) translate(400.0, 300.0)\">\n",
              "<polygon points=\"-5,-4.5 0,-2.5 5,-4.5 0,4.5\" transform=\"skewX(0) scale(1,1)\" style=\"stroke:black;fill:black;stroke-width:1\" />\n",
              "</g><g id=\"classic\" visibility=\"visible\" transform=\"rotate(-90,400.0,300.0) translate(400.0, 300.0)\">\n",
              "<polygon points=\"-5,-4.5 0,-2.5 5,-4.5 0,4.5\" transform=\"skewX(0) scale(1,1)\" style=\"stroke:black;fill:black;stroke-width:1\" />\n",
              "</g><g id=\"classic\" visibility=\"visible\" transform=\"rotate(-90,400.0,300.0) translate(400.0, 300.0)\">\n",
              "<polygon points=\"-5,-4.5 0,-2.5 5,-4.5 0,4.5\" transform=\"skewX(0) scale(1,1)\" style=\"stroke:black;fill:black;stroke-width:1\" />\n",
              "</g><g id=\"classic\" visibility=\"visible\" transform=\"rotate(-90,400.0,300.0) translate(400.0, 300.0)\">\n",
              "<polygon points=\"-5,-4.5 0,-2.5 5,-4.5 0,4.5\" transform=\"skewX(0) scale(1,1)\" style=\"stroke:black;fill:black;stroke-width:1\" />\n",
              "</g><g id=\"classic\" visibility=\"visible\" transform=\"rotate(-90,400.0,300.0) translate(400.0, 300.0)\">\n",
              "<polygon points=\"-5,-4.5 0,-2.5 5,-4.5 0,4.5\" transform=\"skewX(0) scale(1,1)\" style=\"stroke:black;fill:black;stroke-width:1\" />\n",
              "</g><g id=\"classic\" visibility=\"visible\" transform=\"rotate(-90,400.0,300.0) translate(400.0, 300.0)\">\n",
              "<polygon points=\"-5,-4.5 0,-2.5 5,-4.5 0,4.5\" transform=\"skewX(0) scale(1,1)\" style=\"stroke:black;fill:black;stroke-width:1\" />\n",
              "</g><g id=\"classic\" visibility=\"visible\" transform=\"rotate(-90,400.0,300.0) translate(400.0, 300.0)\">\n",
              "<polygon points=\"-5,-4.5 0,-2.5 5,-4.5 0,4.5\" transform=\"skewX(0) scale(1,1)\" style=\"stroke:black;fill:black;stroke-width:1\" />\n",
              "</g><g id=\"classic\" visibility=\"visible\" transform=\"rotate(-90,400.0,300.0) translate(400.0, 300.0)\">\n",
              "<polygon points=\"-5,-4.5 0,-2.5 5,-4.5 0,4.5\" transform=\"skewX(0) scale(1,1)\" style=\"stroke:black;fill:black;stroke-width:1\" />\n",
              "</g><g id=\"classic\" visibility=\"visible\" transform=\"rotate(-90,400.0,300.0) translate(400.0, 300.0)\">\n",
              "<polygon points=\"-5,-4.5 0,-2.5 5,-4.5 0,4.5\" transform=\"skewX(0) scale(1,1)\" style=\"stroke:black;fill:black;stroke-width:1\" />\n",
              "</g><g id=\"classic\" visibility=\"visible\" transform=\"rotate(-90,400.0,300.0) translate(400.0, 300.0)\">\n",
              "<polygon points=\"-5,-4.5 0,-2.5 5,-4.5 0,4.5\" transform=\"skewX(0) scale(1,1)\" style=\"stroke:black;fill:black;stroke-width:1\" />\n",
              "</g><g id=\"classic\" visibility=\"visible\" transform=\"rotate(-90,400.0,300.0) translate(400.0, 300.0)\">\n",
              "<polygon points=\"-5,-4.5 0,-2.5 5,-4.5 0,4.5\" transform=\"skewX(0) scale(1,1)\" style=\"stroke:black;fill:black;stroke-width:1\" />\n",
              "</g><g id=\"classic\" visibility=\"visible\" transform=\"rotate(-90,400.0,300.0) translate(400.0, 300.0)\">\n",
              "<polygon points=\"-5,-4.5 0,-2.5 5,-4.5 0,4.5\" transform=\"skewX(0) scale(1,1)\" style=\"stroke:black;fill:black;stroke-width:1\" />\n",
              "</g><g id=\"classic\" visibility=\"visible\" transform=\"rotate(-90,400.0,300.0) translate(400.0, 300.0)\">\n",
              "<polygon points=\"-5,-4.5 0,-2.5 5,-4.5 0,4.5\" transform=\"skewX(0) scale(1,1)\" style=\"stroke:black;fill:black;stroke-width:1\" />\n",
              "</g><g id=\"classic\" visibility=\"visible\" transform=\"rotate(-90,400.0,300.0) translate(400.0, 300.0)\">\n",
              "<polygon points=\"-5,-4.5 0,-2.5 5,-4.5 0,4.5\" transform=\"skewX(0) scale(1,1)\" style=\"stroke:black;fill:black;stroke-width:1\" />\n",
              "</g><g id=\"classic\" visibility=\"visible\" transform=\"rotate(-90,400.0,300.0) translate(400.0, 300.0)\">\n",
              "<polygon points=\"-5,-4.5 0,-2.5 5,-4.5 0,4.5\" transform=\"skewX(0) scale(1,1)\" style=\"stroke:black;fill:black;stroke-width:1\" />\n",
              "</g><g id=\"classic\" visibility=\"visible\" transform=\"rotate(-90,400.0,300.0) translate(400.0, 300.0)\">\n",
              "<polygon points=\"-5,-4.5 0,-2.5 5,-4.5 0,4.5\" transform=\"skewX(0) scale(1,1)\" style=\"stroke:black;fill:black;stroke-width:1\" />\n",
              "</g><g id=\"classic\" visibility=\"visible\" transform=\"rotate(-90,400.0,300.0) translate(400.0, 300.0)\">\n",
              "<polygon points=\"-5,-4.5 0,-2.5 5,-4.5 0,4.5\" transform=\"skewX(0) scale(1,1)\" style=\"stroke:black;fill:black;stroke-width:1\" />\n",
              "</g><g id=\"classic\" visibility=\"visible\" transform=\"rotate(-90,400.0,300.0) translate(400.0, 300.0)\">\n",
              "<polygon points=\"-5,-4.5 0,-2.5 5,-4.5 0,4.5\" transform=\"skewX(0) scale(1,1)\" style=\"stroke:black;fill:black;stroke-width:1\" />\n",
              "</g><g id=\"classic\" visibility=\"visible\" transform=\"rotate(-90,400.0,300.0) translate(400.0, 300.0)\">\n",
              "<polygon points=\"-5,-4.5 0,-2.5 5,-4.5 0,4.5\" transform=\"skewX(0) scale(1,1)\" style=\"stroke:black;fill:black;stroke-width:1\" />\n",
              "</g><g id=\"classic\" visibility=\"visible\" transform=\"rotate(210,485.142,270.83645962155634) translate(485.142, 270.83645962155634)\">\n",
              "<polygon points=\"-5,-4.5 0,-2.5 5,-4.5 0,4.5\" transform=\"skewX(0) scale(1,1)\" style=\"stroke:black;fill:black;stroke-width:1\" />\n",
              "</g>\n",
              "      </svg>\n",
              "    "
            ]
          },
          "metadata": {}
        }
      ]
    },
    {
      "cell_type": "code",
      "source": [
        "from ColabTurtlePlus.Turtle import *\n",
        "initializeTurtle()\n",
        "t.speed(10)\n",
        "t.right(45)\n",
        "t.forward(300)\n",
        "t.right(135)\n",
        "t.forward(300)\n",
        "t.right(110)\n",
        "t.forward(225)\n"
      ],
      "metadata": {
        "colab": {
          "base_uri": "https://localhost:8080/",
          "height": 621
        },
        "id": "rhsUc1NmCeXc",
        "outputId": "e08f6412-805e-4320-e1a5-384f866ef1c4"
      },
      "execution_count": null,
      "outputs": [
        {
          "output_type": "display_data",
          "data": {
            "text/plain": [
              "<IPython.core.display.HTML object>"
            ],
            "text/html": [
              "\n",
              "      <svg width=\"800\" height=\"600\">  \n",
              "        <rect width=\"100%\" height=\"100%\" style=\"fill:white;stroke:;stroke-width:1\"/>\n",
              "        \n",
              "        \n",
              "        <line x1=\"400.0\" y1=\"300.0\" x2=\"612.132\" y2=\"512.132\" stroke-linecap=\"round\" style=\"stroke:black;stroke-width:1\" /><line x1=\"612.132\" y1=\"512.132\" x2=\"312.132\" y2=\"512.132\" stroke-linecap=\"round\" style=\"stroke:black;stroke-width:1\" /><line x1=\"312.132\" y1=\"512.132\" x2=\"315.5522014332567\" y2=\"502.73507379214084\" stroke-linecap=\"round\" style=\"stroke:black;stroke-width:1\" /><line x1=\"315.5522014332567\" y1=\"502.73507379214084\" x2=\"318.9724028665134\" y2=\"493.3381475842817\" stroke-linecap=\"round\" style=\"stroke:black;stroke-width:1\" /><line x1=\"318.9724028665134\" y1=\"493.3381475842817\" x2=\"322.3926042997701\" y2=\"483.9412213764226\" stroke-linecap=\"round\" style=\"stroke:black;stroke-width:1\" /><line x1=\"322.3926042997701\" y1=\"483.9412213764226\" x2=\"325.8128057330268\" y2=\"474.5442951685635\" stroke-linecap=\"round\" style=\"stroke:black;stroke-width:1\" /><line x1=\"325.8128057330268\" y1=\"474.5442951685635\" x2=\"329.23300716628347\" y2=\"465.1473689607044\" stroke-linecap=\"round\" style=\"stroke:black;stroke-width:1\" /><line x1=\"329.23300716628347\" y1=\"465.1473689607044\" x2=\"332.65320859954016\" y2=\"455.7504427528453\" stroke-linecap=\"round\" style=\"stroke:black;stroke-width:1\" /><line x1=\"332.65320859954016\" y1=\"455.7504427528453\" x2=\"336.07341003279686\" y2=\"446.3535165449862\" stroke-linecap=\"round\" style=\"stroke:black;stroke-width:1\" /><line x1=\"336.07341003279686\" y1=\"446.3535165449862\" x2=\"339.49361146605355\" y2=\"436.95659033712707\" stroke-linecap=\"round\" style=\"stroke:black;stroke-width:1\" /><line x1=\"339.49361146605355\" y1=\"436.95659033712707\" x2=\"342.91381289931024\" y2=\"427.55966412926796\" stroke-linecap=\"round\" style=\"stroke:black;stroke-width:1\" /><line x1=\"342.91381289931024\" y1=\"427.55966412926796\" x2=\"346.33401433256694\" y2=\"418.16273792140885\" stroke-linecap=\"round\" style=\"stroke:black;stroke-width:1\" /><line x1=\"346.33401433256694\" y1=\"418.16273792140885\" x2=\"349.75421576582363\" y2=\"408.76581171354974\" stroke-linecap=\"round\" style=\"stroke:black;stroke-width:1\" /><line x1=\"349.75421576582363\" y1=\"408.76581171354974\" x2=\"353.1744171990803\" y2=\"399.3688855056906\" stroke-linecap=\"round\" style=\"stroke:black;stroke-width:1\" /><line x1=\"353.1744171990803\" y1=\"399.3688855056906\" x2=\"356.594618632337\" y2=\"389.9719592978315\" stroke-linecap=\"round\" style=\"stroke:black;stroke-width:1\" /><line x1=\"356.594618632337\" y1=\"389.9719592978315\" x2=\"360.0148200655937\" y2=\"380.5750330899724\" stroke-linecap=\"round\" style=\"stroke:black;stroke-width:1\" /><line x1=\"360.0148200655937\" y1=\"380.5750330899724\" x2=\"363.4350214988504\" y2=\"371.1781068821133\" stroke-linecap=\"round\" style=\"stroke:black;stroke-width:1\" /><line x1=\"363.4350214988504\" y1=\"371.1781068821133\" x2=\"366.8552229321071\" y2=\"361.7811806742542\" stroke-linecap=\"round\" style=\"stroke:black;stroke-width:1\" /><line x1=\"366.8552229321071\" y1=\"361.7811806742542\" x2=\"370.2754243653638\" y2=\"352.3842544663951\" stroke-linecap=\"round\" style=\"stroke:black;stroke-width:1\" /><line x1=\"370.2754243653638\" y1=\"352.3842544663951\" x2=\"373.6956257986205\" y2=\"342.98732825853597\" stroke-linecap=\"round\" style=\"stroke:black;stroke-width:1\" /><line x1=\"373.6956257986205\" y1=\"342.98732825853597\" x2=\"377.1158272318772\" y2=\"333.59040205067686\" stroke-linecap=\"round\" style=\"stroke:black;stroke-width:1\" /><line x1=\"377.1158272318772\" y1=\"333.59040205067686\" x2=\"380.53602866513387\" y2=\"324.19347584281775\" stroke-linecap=\"round\" style=\"stroke:black;stroke-width:1\" /><line x1=\"380.53602866513387\" y1=\"324.19347584281775\" x2=\"383.95623009839056\" y2=\"314.79654963495864\" stroke-linecap=\"round\" style=\"stroke:black;stroke-width:1\" /><line x1=\"383.95623009839056\" y1=\"314.79654963495864\" x2=\"387.37643153164726\" y2=\"305.3996234270995\" stroke-linecap=\"round\" style=\"stroke:black;stroke-width:1\" /><line x1=\"387.37643153164726\" y1=\"305.3996234270995\" x2=\"389.0865322482756\" y2=\"300.70116032317\" stroke-linecap=\"round\" style=\"stroke:black;stroke-width:1\" />\n",
              "        \n",
              "        \n",
              "        <g id=\"classic\" visibility=\"visible\" transform=\"rotate(-90,400.0,300.0) translate(400.0, 300.0)\">\n",
              "<polygon points=\"-5,-4.5 0,-2.5 5,-4.5 0,4.5\" transform=\"skewX(0) scale(1,1)\" style=\"stroke:black;fill:black;stroke-width:1\" />\n",
              "</g><g id=\"classic\" visibility=\"visible\" transform=\"rotate(-90,400.0,300.0) translate(400.0, 300.0)\">\n",
              "<polygon points=\"-5,-4.5 0,-2.5 5,-4.5 0,4.5\" transform=\"skewX(0) scale(1,1)\" style=\"stroke:black;fill:black;stroke-width:1\" />\n",
              "</g><g id=\"classic\" visibility=\"visible\" transform=\"rotate(-90,400.0,300.0) translate(400.0, 300.0)\">\n",
              "<polygon points=\"-5,-4.5 0,-2.5 5,-4.5 0,4.5\" transform=\"skewX(0) scale(1,1)\" style=\"stroke:black;fill:black;stroke-width:1\" />\n",
              "</g><g id=\"classic\" visibility=\"visible\" transform=\"rotate(-90,400.0,300.0) translate(400.0, 300.0)\">\n",
              "<polygon points=\"-5,-4.5 0,-2.5 5,-4.5 0,4.5\" transform=\"skewX(0) scale(1,1)\" style=\"stroke:black;fill:black;stroke-width:1\" />\n",
              "</g><g id=\"classic\" visibility=\"visible\" transform=\"rotate(-90,400.0,300.0) translate(400.0, 300.0)\">\n",
              "<polygon points=\"-5,-4.5 0,-2.5 5,-4.5 0,4.5\" transform=\"skewX(0) scale(1,1)\" style=\"stroke:black;fill:black;stroke-width:1\" />\n",
              "</g><g id=\"classic\" visibility=\"visible\" transform=\"rotate(-90,400.0,300.0) translate(400.0, 300.0)\">\n",
              "<polygon points=\"-5,-4.5 0,-2.5 5,-4.5 0,4.5\" transform=\"skewX(0) scale(1,1)\" style=\"stroke:black;fill:black;stroke-width:1\" />\n",
              "</g><g id=\"classic\" visibility=\"visible\" transform=\"rotate(-90,400.0,300.0) translate(400.0, 300.0)\">\n",
              "<polygon points=\"-5,-4.5 0,-2.5 5,-4.5 0,4.5\" transform=\"skewX(0) scale(1,1)\" style=\"stroke:black;fill:black;stroke-width:1\" />\n",
              "</g><g id=\"classic\" visibility=\"visible\" transform=\"rotate(-90,400.0,300.0) translate(400.0, 300.0)\">\n",
              "<polygon points=\"-5,-4.5 0,-2.5 5,-4.5 0,4.5\" transform=\"skewX(0) scale(1,1)\" style=\"stroke:black;fill:black;stroke-width:1\" />\n",
              "</g><g id=\"classic\" visibility=\"visible\" transform=\"rotate(-90,400.0,300.0) translate(400.0, 300.0)\">\n",
              "<polygon points=\"-5,-4.5 0,-2.5 5,-4.5 0,4.5\" transform=\"skewX(0) scale(1,1)\" style=\"stroke:black;fill:black;stroke-width:1\" />\n",
              "</g><g id=\"classic\" visibility=\"visible\" transform=\"rotate(-90,400.0,300.0) translate(400.0, 300.0)\">\n",
              "<polygon points=\"-5,-4.5 0,-2.5 5,-4.5 0,4.5\" transform=\"skewX(0) scale(1,1)\" style=\"stroke:black;fill:black;stroke-width:1\" />\n",
              "</g><g id=\"classic\" visibility=\"visible\" transform=\"rotate(-90,400.0,300.0) translate(400.0, 300.0)\">\n",
              "<polygon points=\"-5,-4.5 0,-2.5 5,-4.5 0,4.5\" transform=\"skewX(0) scale(1,1)\" style=\"stroke:black;fill:black;stroke-width:1\" />\n",
              "</g><g id=\"classic\" visibility=\"visible\" transform=\"rotate(-90,400.0,300.0) translate(400.0, 300.0)\">\n",
              "<polygon points=\"-5,-4.5 0,-2.5 5,-4.5 0,4.5\" transform=\"skewX(0) scale(1,1)\" style=\"stroke:black;fill:black;stroke-width:1\" />\n",
              "</g><g id=\"classic\" visibility=\"visible\" transform=\"rotate(-90,400.0,300.0) translate(400.0, 300.0)\">\n",
              "<polygon points=\"-5,-4.5 0,-2.5 5,-4.5 0,4.5\" transform=\"skewX(0) scale(1,1)\" style=\"stroke:black;fill:black;stroke-width:1\" />\n",
              "</g><g id=\"classic\" visibility=\"visible\" transform=\"rotate(-90,400.0,300.0) translate(400.0, 300.0)\">\n",
              "<polygon points=\"-5,-4.5 0,-2.5 5,-4.5 0,4.5\" transform=\"skewX(0) scale(1,1)\" style=\"stroke:black;fill:black;stroke-width:1\" />\n",
              "</g><g id=\"classic\" visibility=\"visible\" transform=\"rotate(-90,400.0,300.0) translate(400.0, 300.0)\">\n",
              "<polygon points=\"-5,-4.5 0,-2.5 5,-4.5 0,4.5\" transform=\"skewX(0) scale(1,1)\" style=\"stroke:black;fill:black;stroke-width:1\" />\n",
              "</g><g id=\"classic\" visibility=\"visible\" transform=\"rotate(-90,400.0,300.0) translate(400.0, 300.0)\">\n",
              "<polygon points=\"-5,-4.5 0,-2.5 5,-4.5 0,4.5\" transform=\"skewX(0) scale(1,1)\" style=\"stroke:black;fill:black;stroke-width:1\" />\n",
              "</g><g id=\"classic\" visibility=\"visible\" transform=\"rotate(-90,400.0,300.0) translate(400.0, 300.0)\">\n",
              "<polygon points=\"-5,-4.5 0,-2.5 5,-4.5 0,4.5\" transform=\"skewX(0) scale(1,1)\" style=\"stroke:black;fill:black;stroke-width:1\" />\n",
              "</g><g id=\"classic\" visibility=\"visible\" transform=\"rotate(-90,400.0,300.0) translate(400.0, 300.0)\">\n",
              "<polygon points=\"-5,-4.5 0,-2.5 5,-4.5 0,4.5\" transform=\"skewX(0) scale(1,1)\" style=\"stroke:black;fill:black;stroke-width:1\" />\n",
              "</g><g id=\"classic\" visibility=\"visible\" transform=\"rotate(-90,400.0,300.0) translate(400.0, 300.0)\">\n",
              "<polygon points=\"-5,-4.5 0,-2.5 5,-4.5 0,4.5\" transform=\"skewX(0) scale(1,1)\" style=\"stroke:black;fill:black;stroke-width:1\" />\n",
              "</g><g id=\"classic\" visibility=\"visible\" transform=\"rotate(-90,400.0,300.0) translate(400.0, 300.0)\">\n",
              "<polygon points=\"-5,-4.5 0,-2.5 5,-4.5 0,4.5\" transform=\"skewX(0) scale(1,1)\" style=\"stroke:black;fill:black;stroke-width:1\" />\n",
              "</g><g id=\"classic\" visibility=\"visible\" transform=\"rotate(-90,400.0,300.0) translate(400.0, 300.0)\">\n",
              "<polygon points=\"-5,-4.5 0,-2.5 5,-4.5 0,4.5\" transform=\"skewX(0) scale(1,1)\" style=\"stroke:black;fill:black;stroke-width:1\" />\n",
              "</g><g id=\"classic\" visibility=\"visible\" transform=\"rotate(-90,400.0,300.0) translate(400.0, 300.0)\">\n",
              "<polygon points=\"-5,-4.5 0,-2.5 5,-4.5 0,4.5\" transform=\"skewX(0) scale(1,1)\" style=\"stroke:black;fill:black;stroke-width:1\" />\n",
              "</g><g id=\"classic\" visibility=\"visible\" transform=\"rotate(-90,400.0,300.0) translate(400.0, 300.0)\">\n",
              "<polygon points=\"-5,-4.5 0,-2.5 5,-4.5 0,4.5\" transform=\"skewX(0) scale(1,1)\" style=\"stroke:black;fill:black;stroke-width:1\" />\n",
              "</g><g id=\"classic\" visibility=\"visible\" transform=\"rotate(-90,400.0,300.0) translate(400.0, 300.0)\">\n",
              "<polygon points=\"-5,-4.5 0,-2.5 5,-4.5 0,4.5\" transform=\"skewX(0) scale(1,1)\" style=\"stroke:black;fill:black;stroke-width:1\" />\n",
              "</g><g id=\"classic\" visibility=\"visible\" transform=\"rotate(-90,400.0,300.0) translate(400.0, 300.0)\">\n",
              "<polygon points=\"-5,-4.5 0,-2.5 5,-4.5 0,4.5\" transform=\"skewX(0) scale(1,1)\" style=\"stroke:black;fill:black;stroke-width:1\" />\n",
              "</g><g id=\"classic\" visibility=\"visible\" transform=\"rotate(-90,400.0,300.0) translate(400.0, 300.0)\">\n",
              "<polygon points=\"-5,-4.5 0,-2.5 5,-4.5 0,4.5\" transform=\"skewX(0) scale(1,1)\" style=\"stroke:black;fill:black;stroke-width:1\" />\n",
              "</g><g id=\"classic\" visibility=\"visible\" transform=\"rotate(-90,400.0,300.0) translate(400.0, 300.0)\">\n",
              "<polygon points=\"-5,-4.5 0,-2.5 5,-4.5 0,4.5\" transform=\"skewX(0) scale(1,1)\" style=\"stroke:black;fill:black;stroke-width:1\" />\n",
              "</g><g id=\"classic\" visibility=\"visible\" transform=\"rotate(200,389.0865322482756,300.70116032317) translate(389.0865322482756, 300.70116032317)\">\n",
              "<polygon points=\"-5,-4.5 0,-2.5 5,-4.5 0,4.5\" transform=\"skewX(0) scale(1,1)\" style=\"stroke:black;fill:black;stroke-width:1\" />\n",
              "</g>\n",
              "      </svg>\n",
              "    "
            ]
          },
          "metadata": {}
        }
      ]
    },
    {
      "cell_type": "code",
      "source": [
        "# draw a circle\n",
        "from ColabTurtlePlus.Turtle import*\n",
        "initializeTurtle()\n",
        "t.speed(10)\n",
        "t.circle(150)\n",
        "t.circle(50)\n",
        "t.circle(30)\n",
        "t.circle(10)\n",
        "t.circle(5)\n",
        "t.circle(1)"
      ],
      "metadata": {
        "colab": {
          "base_uri": "https://localhost:8080/",
          "height": 621
        },
        "id": "ly1DEGRfHvC-",
        "outputId": "1fe84606-b9f6-4dc6-a539-25cd352c3f20"
      },
      "execution_count": null,
      "outputs": [
        {
          "output_type": "display_data",
          "data": {
            "text/plain": [
              "<IPython.core.display.HTML object>"
            ],
            "text/html": [
              "\n",
              "      <svg width=\"800\" height=\"600\">  \n",
              "        <rect width=\"100%\" height=\"100%\" style=\"fill:white;stroke:;stroke-width:1\"/>\n",
              "        \n",
              "        \n",
              "        <path d=\"M 400.0 300.0 A 150 150 0 0 0 400.0 0.0\" stroke-linecap=\"round\" \n",
              "            fill=\"transparent\" fill-opacity=\"0\" style=\"stroke:black;stroke-width:1\"/><path d=\"M 400.0 0.0 A 150 150 0 0 0 400.0 300.0\" stroke-linecap=\"round\" \n",
              "            fill=\"transparent\" fill-opacity=\"0\" style=\"stroke:black;stroke-width:1\"/><path d=\"M 400.0 300.0 A 50 50 0 0 0 400.0 200.0\" stroke-linecap=\"round\" \n",
              "            fill=\"transparent\" fill-opacity=\"0\" style=\"stroke:black;stroke-width:1\"/><path d=\"M 400.0 200.0 A 50 50 0 0 0 400.0 300.0\" stroke-linecap=\"round\" \n",
              "            fill=\"transparent\" fill-opacity=\"0\" style=\"stroke:black;stroke-width:1\"/><path d=\"M 400.0 300.0 A 30 30 0 0 0 400.0 240.0\" stroke-linecap=\"round\" \n",
              "            fill=\"transparent\" fill-opacity=\"0\" style=\"stroke:black;stroke-width:1\"/><path d=\"M 400.0 240.0 A 30 30 0 0 0 400.0 300.0\" stroke-linecap=\"round\" \n",
              "            fill=\"transparent\" fill-opacity=\"0\" style=\"stroke:black;stroke-width:1\"/><path d=\"M 400.0 300.0 A 10 10 0 0 0 400.0 280.0\" stroke-linecap=\"round\" \n",
              "            fill=\"transparent\" fill-opacity=\"0\" style=\"stroke:black;stroke-width:1\"/><path d=\"M 400.0 280.0 A 10 10 0 0 0 400.0 300.0\" stroke-linecap=\"round\" \n",
              "            fill=\"transparent\" fill-opacity=\"0\" style=\"stroke:black;stroke-width:1\"/><path d=\"M 400.0 300.0 A 5 5 0 0 0 400.0 290.0\" stroke-linecap=\"round\" \n",
              "            fill=\"transparent\" fill-opacity=\"0\" style=\"stroke:black;stroke-width:1\"/><path d=\"M 400.0 290.0 A 5 5 0 0 0 400.0 300.0\" stroke-linecap=\"round\" \n",
              "            fill=\"transparent\" fill-opacity=\"0\" style=\"stroke:black;stroke-width:1\"/><path d=\"M 400.0 300.0 A 1 1 0 0 0 400.259 299.966\" stroke-linecap=\"round\" \n",
              "            fill=\"transparent\" fill-opacity=\"0\" style=\"stroke:black;stroke-width:1\"/><path d=\"M 400.259 299.966 A 1 1 0 0 0 400.5 299.866\" stroke-linecap=\"round\" \n",
              "            fill=\"transparent\" fill-opacity=\"0\" style=\"stroke:black;stroke-width:1\"/><path d=\"M 400.5 299.866 A 1 1 0 0 0 400.707 299.707\" stroke-linecap=\"round\" \n",
              "            fill=\"transparent\" fill-opacity=\"0\" style=\"stroke:black;stroke-width:1\"/><path d=\"M 400.707 299.707 A 1 1 0 0 0 400.866 299.5\" stroke-linecap=\"round\" \n",
              "            fill=\"transparent\" fill-opacity=\"0\" style=\"stroke:black;stroke-width:1\"/><path d=\"M 400.866 299.5 A 1 1 0 0 0 400.966 299.259\" stroke-linecap=\"round\" \n",
              "            fill=\"transparent\" fill-opacity=\"0\" style=\"stroke:black;stroke-width:1\"/><path d=\"M 400.966 299.259 A 1 1 0 0 0 401.0 299.0\" stroke-linecap=\"round\" \n",
              "            fill=\"transparent\" fill-opacity=\"0\" style=\"stroke:black;stroke-width:1\"/><path d=\"M 401.0 299.0 A 1 1 0 0 0 400.966 298.741\" stroke-linecap=\"round\" \n",
              "            fill=\"transparent\" fill-opacity=\"0\" style=\"stroke:black;stroke-width:1\"/><path d=\"M 400.966 298.741 A 1 1 0 0 0 400.866 298.5\" stroke-linecap=\"round\" \n",
              "            fill=\"transparent\" fill-opacity=\"0\" style=\"stroke:black;stroke-width:1\"/><path d=\"M 400.866 298.5 A 1 1 0 0 0 400.707 298.293\" stroke-linecap=\"round\" \n",
              "            fill=\"transparent\" fill-opacity=\"0\" style=\"stroke:black;stroke-width:1\"/><path d=\"M 400.707 298.293 A 1 1 0 0 0 400.5 298.134\" stroke-linecap=\"round\" \n",
              "            fill=\"transparent\" fill-opacity=\"0\" style=\"stroke:black;stroke-width:1\"/><path d=\"M 400.5 298.134 A 1 1 0 0 0 400.259 298.034\" stroke-linecap=\"round\" \n",
              "            fill=\"transparent\" fill-opacity=\"0\" style=\"stroke:black;stroke-width:1\"/><path d=\"M 400.259 298.034 A 1 1 0 0 0 400.0 298.0\" stroke-linecap=\"round\" \n",
              "            fill=\"transparent\" fill-opacity=\"0\" style=\"stroke:black;stroke-width:1\"/><path d=\"M 400.0 298.0 A 1 1 0 0 0 399.741 298.034\" stroke-linecap=\"round\" \n",
              "            fill=\"transparent\" fill-opacity=\"0\" style=\"stroke:black;stroke-width:1\"/><path d=\"M 399.741 298.034 A 1 1 0 0 0 399.5 298.134\" stroke-linecap=\"round\" \n",
              "            fill=\"transparent\" fill-opacity=\"0\" style=\"stroke:black;stroke-width:1\"/><path d=\"M 399.5 298.134 A 1 1 0 0 0 399.293 298.293\" stroke-linecap=\"round\" \n",
              "            fill=\"transparent\" fill-opacity=\"0\" style=\"stroke:black;stroke-width:1\"/><path d=\"M 399.293 298.293 A 1 1 0 0 0 399.134 298.5\" stroke-linecap=\"round\" \n",
              "            fill=\"transparent\" fill-opacity=\"0\" style=\"stroke:black;stroke-width:1\"/><path d=\"M 399.134 298.5 A 1 1 0 0 0 399.034 298.741\" stroke-linecap=\"round\" \n",
              "            fill=\"transparent\" fill-opacity=\"0\" style=\"stroke:black;stroke-width:1\"/><path d=\"M 399.034 298.741 A 1 1 0 0 0 399.0 299.0\" stroke-linecap=\"round\" \n",
              "            fill=\"transparent\" fill-opacity=\"0\" style=\"stroke:black;stroke-width:1\"/><path d=\"M 399.0 299.0 A 1 1 0 0 0 399.034 299.259\" stroke-linecap=\"round\" \n",
              "            fill=\"transparent\" fill-opacity=\"0\" style=\"stroke:black;stroke-width:1\"/><path d=\"M 399.034 299.259 A 1 1 0 0 0 399.134 299.5\" stroke-linecap=\"round\" \n",
              "            fill=\"transparent\" fill-opacity=\"0\" style=\"stroke:black;stroke-width:1\"/><path d=\"M 399.134 299.5 A 1 1 0 0 0 399.293 299.707\" stroke-linecap=\"round\" \n",
              "            fill=\"transparent\" fill-opacity=\"0\" style=\"stroke:black;stroke-width:1\"/><path d=\"M 399.293 299.707 A 1 1 0 0 0 399.5 299.866\" stroke-linecap=\"round\" \n",
              "            fill=\"transparent\" fill-opacity=\"0\" style=\"stroke:black;stroke-width:1\"/><path d=\"M 399.5 299.866 A 1 1 0 0 0 399.741 299.966\" stroke-linecap=\"round\" \n",
              "            fill=\"transparent\" fill-opacity=\"0\" style=\"stroke:black;stroke-width:1\"/><path d=\"M 399.741 299.966 A 1 1 0 0 0 400.0 300.0\" stroke-linecap=\"round\" \n",
              "            fill=\"transparent\" fill-opacity=\"0\" style=\"stroke:black;stroke-width:1\"/>\n",
              "        \n",
              "        \n",
              "        <g id=\"classic\" visibility=\"visible\" transform=\"rotate(-90,400.0,300.0) translate(400.0, 300.0)\">\n",
              "<polygon points=\"-5,-4.5 0,-2.5 5,-4.5 0,4.5\" transform=\"skewX(0) scale(1,1)\" style=\"stroke:black;fill:black;stroke-width:1\" />\n",
              "</g><g id=\"classic\" visibility=\"visible\" transform=\"rotate(-90,400.0,300.0) translate(400.0, 300.0)\">\n",
              "<polygon points=\"-5,-4.5 0,-2.5 5,-4.5 0,4.5\" transform=\"skewX(0) scale(1,1)\" style=\"stroke:black;fill:black;stroke-width:1\" />\n",
              "</g><g id=\"classic\" visibility=\"visible\" transform=\"rotate(-90,400.0,300.0) translate(400.0, 300.0)\">\n",
              "<polygon points=\"-5,-4.5 0,-2.5 5,-4.5 0,4.5\" transform=\"skewX(0) scale(1,1)\" style=\"stroke:black;fill:black;stroke-width:1\" />\n",
              "</g><g id=\"classic\" visibility=\"visible\" transform=\"rotate(-90,400.0,300.0) translate(400.0, 300.0)\">\n",
              "<polygon points=\"-5,-4.5 0,-2.5 5,-4.5 0,4.5\" transform=\"skewX(0) scale(1,1)\" style=\"stroke:black;fill:black;stroke-width:1\" />\n",
              "</g><g id=\"classic\" visibility=\"visible\" transform=\"rotate(-90,400.0,300.0) translate(400.0, 300.0)\">\n",
              "<polygon points=\"-5,-4.5 0,-2.5 5,-4.5 0,4.5\" transform=\"skewX(0) scale(1,1)\" style=\"stroke:black;fill:black;stroke-width:1\" />\n",
              "</g><g id=\"classic\" visibility=\"visible\" transform=\"rotate(-90,400.0,300.0) translate(400.0, 300.0)\">\n",
              "<polygon points=\"-5,-4.5 0,-2.5 5,-4.5 0,4.5\" transform=\"skewX(0) scale(1,1)\" style=\"stroke:black;fill:black;stroke-width:1\" />\n",
              "</g><g id=\"classic\" visibility=\"visible\" transform=\"rotate(-90,400.0,300.0) translate(400.0, 300.0)\">\n",
              "<polygon points=\"-5,-4.5 0,-2.5 5,-4.5 0,4.5\" transform=\"skewX(0) scale(1,1)\" style=\"stroke:black;fill:black;stroke-width:1\" />\n",
              "</g><g id=\"classic\" visibility=\"visible\" transform=\"rotate(-90,400.0,300.0) translate(400.0, 300.0)\">\n",
              "<polygon points=\"-5,-4.5 0,-2.5 5,-4.5 0,4.5\" transform=\"skewX(0) scale(1,1)\" style=\"stroke:black;fill:black;stroke-width:1\" />\n",
              "</g><g id=\"classic\" visibility=\"visible\" transform=\"rotate(-90,400.0,300.0) translate(400.0, 300.0)\">\n",
              "<polygon points=\"-5,-4.5 0,-2.5 5,-4.5 0,4.5\" transform=\"skewX(0) scale(1,1)\" style=\"stroke:black;fill:black;stroke-width:1\" />\n",
              "</g><g id=\"classic\" visibility=\"visible\" transform=\"rotate(-90,400.0,300.0) translate(400.0, 300.0)\">\n",
              "<polygon points=\"-5,-4.5 0,-2.5 5,-4.5 0,4.5\" transform=\"skewX(0) scale(1,1)\" style=\"stroke:black;fill:black;stroke-width:1\" />\n",
              "</g><g id=\"classic\" visibility=\"visible\" transform=\"rotate(-90,400.0,300.0) translate(400.0, 300.0)\">\n",
              "<polygon points=\"-5,-4.5 0,-2.5 5,-4.5 0,4.5\" transform=\"skewX(0) scale(1,1)\" style=\"stroke:black;fill:black;stroke-width:1\" />\n",
              "</g><g id=\"classic\" visibility=\"visible\" transform=\"rotate(-90,400.0,300.0) translate(400.0, 300.0)\">\n",
              "<polygon points=\"-5,-4.5 0,-2.5 5,-4.5 0,4.5\" transform=\"skewX(0) scale(1,1)\" style=\"stroke:black;fill:black;stroke-width:1\" />\n",
              "</g><g id=\"classic\" visibility=\"visible\" transform=\"rotate(-90,400.0,300.0) translate(400.0, 300.0)\">\n",
              "<polygon points=\"-5,-4.5 0,-2.5 5,-4.5 0,4.5\" transform=\"skewX(0) scale(1,1)\" style=\"stroke:black;fill:black;stroke-width:1\" />\n",
              "</g><g id=\"classic\" visibility=\"visible\" transform=\"rotate(-90,400.0,300.0) translate(400.0, 300.0)\">\n",
              "<polygon points=\"-5,-4.5 0,-2.5 5,-4.5 0,4.5\" transform=\"skewX(0) scale(1,1)\" style=\"stroke:black;fill:black;stroke-width:1\" />\n",
              "</g><g id=\"classic\" visibility=\"visible\" transform=\"rotate(-90,400.0,300.0) translate(400.0, 300.0)\">\n",
              "<polygon points=\"-5,-4.5 0,-2.5 5,-4.5 0,4.5\" transform=\"skewX(0) scale(1,1)\" style=\"stroke:black;fill:black;stroke-width:1\" />\n",
              "</g><g id=\"classic\" visibility=\"visible\" transform=\"rotate(-90,400.0,300.0) translate(400.0, 300.0)\">\n",
              "<polygon points=\"-5,-4.5 0,-2.5 5,-4.5 0,4.5\" transform=\"skewX(0) scale(1,1)\" style=\"stroke:black;fill:black;stroke-width:1\" />\n",
              "</g><g id=\"classic\" visibility=\"visible\" transform=\"rotate(-90,400.0,300.0) translate(400.0, 300.0)\">\n",
              "<polygon points=\"-5,-4.5 0,-2.5 5,-4.5 0,4.5\" transform=\"skewX(0) scale(1,1)\" style=\"stroke:black;fill:black;stroke-width:1\" />\n",
              "</g><g id=\"classic\" visibility=\"visible\" transform=\"rotate(-90,400.0,300.0) translate(400.0, 300.0)\">\n",
              "<polygon points=\"-5,-4.5 0,-2.5 5,-4.5 0,4.5\" transform=\"skewX(0) scale(1,1)\" style=\"stroke:black;fill:black;stroke-width:1\" />\n",
              "</g><g id=\"classic\" visibility=\"visible\" transform=\"rotate(-90,400.0,300.0) translate(400.0, 300.0)\">\n",
              "<polygon points=\"-5,-4.5 0,-2.5 5,-4.5 0,4.5\" transform=\"skewX(0) scale(1,1)\" style=\"stroke:black;fill:black;stroke-width:1\" />\n",
              "</g><g id=\"classic\" visibility=\"visible\" transform=\"rotate(-90,400.0,300.0) translate(400.0, 300.0)\">\n",
              "<polygon points=\"-5,-4.5 0,-2.5 5,-4.5 0,4.5\" transform=\"skewX(0) scale(1,1)\" style=\"stroke:black;fill:black;stroke-width:1\" />\n",
              "</g><g id=\"classic\" visibility=\"visible\" transform=\"rotate(-90,400.0,300.0) translate(400.0, 300.0)\">\n",
              "<polygon points=\"-5,-4.5 0,-2.5 5,-4.5 0,4.5\" transform=\"skewX(0) scale(1,1)\" style=\"stroke:black;fill:black;stroke-width:1\" />\n",
              "</g><g id=\"classic\" visibility=\"visible\" transform=\"rotate(-90,400.0,300.0) translate(400.0, 300.0)\">\n",
              "<polygon points=\"-5,-4.5 0,-2.5 5,-4.5 0,4.5\" transform=\"skewX(0) scale(1,1)\" style=\"stroke:black;fill:black;stroke-width:1\" />\n",
              "</g><g id=\"classic\" visibility=\"visible\" transform=\"rotate(-90,400.0,300.0) translate(400.0, 300.0)\">\n",
              "<polygon points=\"-5,-4.5 0,-2.5 5,-4.5 0,4.5\" transform=\"skewX(0) scale(1,1)\" style=\"stroke:black;fill:black;stroke-width:1\" />\n",
              "</g><g id=\"classic\" visibility=\"visible\" transform=\"rotate(-90,400.0,300.0) translate(400.0, 300.0)\">\n",
              "<polygon points=\"-5,-4.5 0,-2.5 5,-4.5 0,4.5\" transform=\"skewX(0) scale(1,1)\" style=\"stroke:black;fill:black;stroke-width:1\" />\n",
              "</g><g id=\"classic\" visibility=\"visible\" transform=\"rotate(-90,400.0,300.0) translate(400.0, 300.0)\">\n",
              "<polygon points=\"-5,-4.5 0,-2.5 5,-4.5 0,4.5\" transform=\"skewX(0) scale(1,1)\" style=\"stroke:black;fill:black;stroke-width:1\" />\n",
              "</g><g id=\"classic\" visibility=\"visible\" transform=\"rotate(-90,400.0,300.0) translate(400.0, 300.0)\">\n",
              "<polygon points=\"-5,-4.5 0,-2.5 5,-4.5 0,4.5\" transform=\"skewX(0) scale(1,1)\" style=\"stroke:black;fill:black;stroke-width:1\" />\n",
              "</g><g id=\"classic\" visibility=\"visible\" transform=\"rotate(-90,400.0,300.0) translate(400.0, 300.0)\">\n",
              "<polygon points=\"-5,-4.5 0,-2.5 5,-4.5 0,4.5\" transform=\"skewX(0) scale(1,1)\" style=\"stroke:black;fill:black;stroke-width:1\" />\n",
              "</g><g id=\"classic\" visibility=\"visible\" transform=\"rotate(-90.0,400.0,300.0) translate(400.0, 300.0)\">\n",
              "<polygon points=\"-5,-4.5 0,-2.5 5,-4.5 0,4.5\" transform=\"skewX(0) scale(1,1)\" style=\"stroke:black;fill:black;stroke-width:1\" />\n",
              "</g>\n",
              "      </svg>\n",
              "    "
            ]
          },
          "metadata": {}
        }
      ]
    },
    {
      "cell_type": "code",
      "source": [
        "initializeTurtle()\n",
        "t = Turtle() # Remove the argument from the constructor\n",
        "t.speed(10) # Set the speed using the speed() method\n",
        "t.forward(100)\n",
        "t.right(93)\n",
        "t.forward(100)\n",
        "t.right(90)\n",
        "t.forward(100)\n",
        "t.right(93)\n",
        "t.forward(100)\n",
        "t.right(90)\n",
        "t.circle(100)\n",
        "t.circle(50)\n",
        "t.circle(40)\n",
        "t.circle(30)\n",
        "t.circle(20)"
      ],
      "metadata": {
        "colab": {
          "base_uri": "https://localhost:8080/",
          "height": 621
        },
        "id": "giR8AvvUIltE",
        "outputId": "0950454d-cbbe-441d-f9e1-0ad4e8662b65"
      },
      "execution_count": null,
      "outputs": [
        {
          "output_type": "display_data",
          "data": {
            "text/plain": [
              "<IPython.core.display.HTML object>"
            ],
            "text/html": [
              "\n",
              "      <svg width=\"800\" height=\"600\">  \n",
              "        <rect width=\"100%\" height=\"100%\" style=\"fill:white;stroke:;stroke-width:1\"/>\n",
              "        \n",
              "        \n",
              "        <line x1=\"400.0\" y1=\"300.0\" x2=\"500.0\" y2=\"300.0\" stroke-linecap=\"round\" style=\"stroke:black;stroke-width:1\" /><line x1=\"500.0\" y1=\"300.0\" x2=\"494.766\" y2=\"399.863\" stroke-linecap=\"round\" style=\"stroke:black;stroke-width:1\" /><line x1=\"494.766\" y1=\"399.863\" x2=\"394.903\" y2=\"394.629\" stroke-linecap=\"round\" style=\"stroke:black;stroke-width:1\" /><line x1=\"394.903\" y1=\"394.629\" x2=\"405.356\" y2=\"295.177\" stroke-linecap=\"round\" style=\"stroke:black;stroke-width:1\" /><path d=\"M 405.356 295.177 A 100 100 0 0 0 426.262 96.273\" stroke-linecap=\"round\" \n",
              "            fill=\"transparent\" fill-opacity=\"0\" style=\"stroke:black;stroke-width:1\"/><path d=\"M 426.262 96.273 A 100 100 0 0 0 405.356 295.177\" stroke-linecap=\"round\" \n",
              "            fill=\"transparent\" fill-opacity=\"0\" style=\"stroke:black;stroke-width:1\"/><path d=\"M 405.356 295.177 A 50 50 0 0 0 418.404 294.835\" stroke-linecap=\"round\" \n",
              "            fill=\"transparent\" fill-opacity=\"0\" style=\"stroke:black;stroke-width:1\"/><path d=\"M 418.404 294.835 A 50 50 0 0 0 430.919 291.128\" stroke-linecap=\"round\" \n",
              "            fill=\"transparent\" fill-opacity=\"0\" style=\"stroke:black;stroke-width:1\"/><path d=\"M 430.919 291.128 A 50 50 0 0 0 442.048 284.308\" stroke-linecap=\"round\" \n",
              "            fill=\"transparent\" fill-opacity=\"0\" style=\"stroke:black;stroke-width:1\"/><path d=\"M 442.048 284.308 A 50 50 0 0 0 451.033 274.84\" stroke-linecap=\"round\" \n",
              "            fill=\"transparent\" fill-opacity=\"0\" style=\"stroke:black;stroke-width:1\"/><path d=\"M 451.033 274.84 A 50 50 0 0 0 457.261 263.369\" stroke-linecap=\"round\" \n",
              "            fill=\"transparent\" fill-opacity=\"0\" style=\"stroke:black;stroke-width:1\"/><path d=\"M 457.261 263.369 A 50 50 0 0 0 460.308 250.677\" stroke-linecap=\"round\" \n",
              "            fill=\"transparent\" fill-opacity=\"0\" style=\"stroke:black;stroke-width:1\"/><path d=\"M 460.308 250.677 A 50 50 0 0 0 459.966 237.629\" stroke-linecap=\"round\" \n",
              "            fill=\"transparent\" fill-opacity=\"0\" style=\"stroke:black;stroke-width:1\"/><path d=\"M 459.966 237.629 A 50 50 0 0 0 456.259 225.114\" stroke-linecap=\"round\" \n",
              "            fill=\"transparent\" fill-opacity=\"0\" style=\"stroke:black;stroke-width:1\"/><path d=\"M 456.259 225.114 A 50 50 0 0 0 449.439 213.985\" stroke-linecap=\"round\" \n",
              "            fill=\"transparent\" fill-opacity=\"0\" style=\"stroke:black;stroke-width:1\"/><path d=\"M 449.439 213.985 A 50 50 0 0 0 439.971 205.0\" stroke-linecap=\"round\" \n",
              "            fill=\"transparent\" fill-opacity=\"0\" style=\"stroke:black;stroke-width:1\"/><path d=\"M 439.971 205.0 A 50 50 0 0 0 428.5 198.772\" stroke-linecap=\"round\" \n",
              "            fill=\"transparent\" fill-opacity=\"0\" style=\"stroke:black;stroke-width:1\"/><path d=\"M 428.5 198.772 A 50 50 0 0 0 415.808 195.725\" stroke-linecap=\"round\" \n",
              "            fill=\"transparent\" fill-opacity=\"0\" style=\"stroke:black;stroke-width:1\"/><path d=\"M 415.808 195.725 A 50 50 0 0 0 402.76 196.067\" stroke-linecap=\"round\" \n",
              "            fill=\"transparent\" fill-opacity=\"0\" style=\"stroke:black;stroke-width:1\"/><path d=\"M 402.76 196.067 A 50 50 0 0 0 390.245 199.774\" stroke-linecap=\"round\" \n",
              "            fill=\"transparent\" fill-opacity=\"0\" style=\"stroke:black;stroke-width:1\"/><path d=\"M 390.245 199.774 A 50 50 0 0 0 379.116 206.594\" stroke-linecap=\"round\" \n",
              "            fill=\"transparent\" fill-opacity=\"0\" style=\"stroke:black;stroke-width:1\"/><path d=\"M 379.116 206.594 A 50 50 0 0 0 370.131 216.062\" stroke-linecap=\"round\" \n",
              "            fill=\"transparent\" fill-opacity=\"0\" style=\"stroke:black;stroke-width:1\"/>\n",
              "        \n",
              "        \n",
              "        <g id=\"classic\" visibility=\"visible\" transform=\"rotate(-90,400.0,300.0) translate(400.0, 300.0)\">\n",
              "<polygon points=\"-5,-4.5 0,-2.5 5,-4.5 0,4.5\" transform=\"skewX(0) scale(1,1)\" style=\"stroke:black;fill:black;stroke-width:1\" />\n",
              "</g><g id=\"classic\" visibility=\"visible\" transform=\"rotate(-90,400.0,300.0) translate(400.0, 300.0)\">\n",
              "<polygon points=\"-5,-4.5 0,-2.5 5,-4.5 0,4.5\" transform=\"skewX(0) scale(1,1)\" style=\"stroke:black;fill:black;stroke-width:1\" />\n",
              "</g><g id=\"classic\" visibility=\"visible\" transform=\"rotate(-90,400.0,300.0) translate(400.0, 300.0)\">\n",
              "<polygon points=\"-5,-4.5 0,-2.5 5,-4.5 0,4.5\" transform=\"skewX(0) scale(1,1)\" style=\"stroke:black;fill:black;stroke-width:1\" />\n",
              "</g><g id=\"classic\" visibility=\"visible\" transform=\"rotate(-90,400.0,300.0) translate(400.0, 300.0)\">\n",
              "<polygon points=\"-5,-4.5 0,-2.5 5,-4.5 0,4.5\" transform=\"skewX(0) scale(1,1)\" style=\"stroke:black;fill:black;stroke-width:1\" />\n",
              "</g><g id=\"classic\" visibility=\"visible\" transform=\"rotate(-90,400.0,300.0) translate(400.0, 300.0)\">\n",
              "<polygon points=\"-5,-4.5 0,-2.5 5,-4.5 0,4.5\" transform=\"skewX(0) scale(1,1)\" style=\"stroke:black;fill:black;stroke-width:1\" />\n",
              "</g><g id=\"classic\" visibility=\"visible\" transform=\"rotate(-90,400.0,300.0) translate(400.0, 300.0)\">\n",
              "<polygon points=\"-5,-4.5 0,-2.5 5,-4.5 0,4.5\" transform=\"skewX(0) scale(1,1)\" style=\"stroke:black;fill:black;stroke-width:1\" />\n",
              "</g><g id=\"classic\" visibility=\"visible\" transform=\"rotate(-90,400.0,300.0) translate(400.0, 300.0)\">\n",
              "<polygon points=\"-5,-4.5 0,-2.5 5,-4.5 0,4.5\" transform=\"skewX(0) scale(1,1)\" style=\"stroke:black;fill:black;stroke-width:1\" />\n",
              "</g><g id=\"classic\" visibility=\"visible\" transform=\"rotate(-90,400.0,300.0) translate(400.0, 300.0)\">\n",
              "<polygon points=\"-5,-4.5 0,-2.5 5,-4.5 0,4.5\" transform=\"skewX(0) scale(1,1)\" style=\"stroke:black;fill:black;stroke-width:1\" />\n",
              "</g><g id=\"classic\" visibility=\"visible\" transform=\"rotate(-90,400.0,300.0) translate(400.0, 300.0)\">\n",
              "<polygon points=\"-5,-4.5 0,-2.5 5,-4.5 0,4.5\" transform=\"skewX(0) scale(1,1)\" style=\"stroke:black;fill:black;stroke-width:1\" />\n",
              "</g><g id=\"classic\" visibility=\"visible\" transform=\"rotate(-90,400.0,300.0) translate(400.0, 300.0)\">\n",
              "<polygon points=\"-5,-4.5 0,-2.5 5,-4.5 0,4.5\" transform=\"skewX(0) scale(1,1)\" style=\"stroke:black;fill:black;stroke-width:1\" />\n",
              "</g><g id=\"classic\" visibility=\"visible\" transform=\"rotate(-90,400.0,300.0) translate(400.0, 300.0)\">\n",
              "<polygon points=\"-5,-4.5 0,-2.5 5,-4.5 0,4.5\" transform=\"skewX(0) scale(1,1)\" style=\"stroke:black;fill:black;stroke-width:1\" />\n",
              "</g><g id=\"classic\" visibility=\"visible\" transform=\"rotate(-90,400.0,300.0) translate(400.0, 300.0)\">\n",
              "<polygon points=\"-5,-4.5 0,-2.5 5,-4.5 0,4.5\" transform=\"skewX(0) scale(1,1)\" style=\"stroke:black;fill:black;stroke-width:1\" />\n",
              "</g><g id=\"classic\" visibility=\"visible\" transform=\"rotate(-90,400.0,300.0) translate(400.0, 300.0)\">\n",
              "<polygon points=\"-5,-4.5 0,-2.5 5,-4.5 0,4.5\" transform=\"skewX(0) scale(1,1)\" style=\"stroke:black;fill:black;stroke-width:1\" />\n",
              "</g><g id=\"classic\" visibility=\"visible\" transform=\"rotate(-90,400.0,300.0) translate(400.0, 300.0)\">\n",
              "<polygon points=\"-5,-4.5 0,-2.5 5,-4.5 0,4.5\" transform=\"skewX(0) scale(1,1)\" style=\"stroke:black;fill:black;stroke-width:1\" />\n",
              "</g><g id=\"classic\" visibility=\"visible\" transform=\"rotate(-90,400.0,300.0) translate(400.0, 300.0)\">\n",
              "<polygon points=\"-5,-4.5 0,-2.5 5,-4.5 0,4.5\" transform=\"skewX(0) scale(1,1)\" style=\"stroke:black;fill:black;stroke-width:1\" />\n",
              "</g><g id=\"classic\" visibility=\"visible\" transform=\"rotate(-90,400.0,300.0) translate(400.0, 300.0)\">\n",
              "<polygon points=\"-5,-4.5 0,-2.5 5,-4.5 0,4.5\" transform=\"skewX(0) scale(1,1)\" style=\"stroke:black;fill:black;stroke-width:1\" />\n",
              "</g><g id=\"classic\" visibility=\"visible\" transform=\"rotate(-90,400.0,300.0) translate(400.0, 300.0)\">\n",
              "<polygon points=\"-5,-4.5 0,-2.5 5,-4.5 0,4.5\" transform=\"skewX(0) scale(1,1)\" style=\"stroke:black;fill:black;stroke-width:1\" />\n",
              "</g><g id=\"classic\" visibility=\"visible\" transform=\"rotate(-90,400.0,300.0) translate(400.0, 300.0)\">\n",
              "<polygon points=\"-5,-4.5 0,-2.5 5,-4.5 0,4.5\" transform=\"skewX(0) scale(1,1)\" style=\"stroke:black;fill:black;stroke-width:1\" />\n",
              "</g><g id=\"classic\" visibility=\"visible\" transform=\"rotate(-90,400.0,300.0) translate(400.0, 300.0)\">\n",
              "<polygon points=\"-5,-4.5 0,-2.5 5,-4.5 0,4.5\" transform=\"skewX(0) scale(1,1)\" style=\"stroke:black;fill:black;stroke-width:1\" />\n",
              "</g><g id=\"classic\" visibility=\"visible\" transform=\"rotate(-90,400.0,300.0) translate(400.0, 300.0)\">\n",
              "<polygon points=\"-5,-4.5 0,-2.5 5,-4.5 0,4.5\" transform=\"skewX(0) scale(1,1)\" style=\"stroke:black;fill:black;stroke-width:1\" />\n",
              "</g><g id=\"classic\" visibility=\"visible\" transform=\"rotate(-90,400.0,300.0) translate(400.0, 300.0)\">\n",
              "<polygon points=\"-5,-4.5 0,-2.5 5,-4.5 0,4.5\" transform=\"skewX(0) scale(1,1)\" style=\"stroke:black;fill:black;stroke-width:1\" />\n",
              "</g><g id=\"classic\" visibility=\"visible\" transform=\"rotate(-90,400.0,300.0) translate(400.0, 300.0)\">\n",
              "<polygon points=\"-5,-4.5 0,-2.5 5,-4.5 0,4.5\" transform=\"skewX(0) scale(1,1)\" style=\"stroke:black;fill:black;stroke-width:1\" />\n",
              "</g><g id=\"classic\" visibility=\"visible\" transform=\"rotate(-90,400.0,300.0) translate(400.0, 300.0)\">\n",
              "<polygon points=\"-5,-4.5 0,-2.5 5,-4.5 0,4.5\" transform=\"skewX(0) scale(1,1)\" style=\"stroke:black;fill:black;stroke-width:1\" />\n",
              "</g><g id=\"classic\" visibility=\"visible\" transform=\"rotate(-90,400.0,300.0) translate(400.0, 300.0)\">\n",
              "<polygon points=\"-5,-4.5 0,-2.5 5,-4.5 0,4.5\" transform=\"skewX(0) scale(1,1)\" style=\"stroke:black;fill:black;stroke-width:1\" />\n",
              "</g><g id=\"classic\" visibility=\"visible\" transform=\"rotate(-90,400.0,300.0) translate(400.0, 300.0)\">\n",
              "<polygon points=\"-5,-4.5 0,-2.5 5,-4.5 0,4.5\" transform=\"skewX(0) scale(1,1)\" style=\"stroke:black;fill:black;stroke-width:1\" />\n",
              "</g><g id=\"classic\" visibility=\"visible\" transform=\"rotate(-90,400.0,300.0) translate(400.0, 300.0)\">\n",
              "<polygon points=\"-5,-4.5 0,-2.5 5,-4.5 0,4.5\" transform=\"skewX(0) scale(1,1)\" style=\"stroke:black;fill:black;stroke-width:1\" />\n",
              "</g><g id=\"classic\" visibility=\"visible\" transform=\"rotate(-90,400.0,300.0) translate(400.0, 300.0)\">\n",
              "<polygon points=\"-5,-4.5 0,-2.5 5,-4.5 0,4.5\" transform=\"skewX(0) scale(1,1)\" style=\"stroke:black;fill:black;stroke-width:1\" />\n",
              "</g><g id=\"classic\" visibility=\"visible\" transform=\"rotate(-90,400.0,300.0) translate(400.0, 300.0)\">\n",
              "<polygon points=\"-5,-4.5 0,-2.5 5,-4.5 0,4.5\" transform=\"skewX(0) scale(1,1)\" style=\"stroke:black;fill:black;stroke-width:1\" />\n",
              "</g><g id=\"classic\" visibility=\"visible\" transform=\"rotate(-90,400.0,300.0) translate(400.0, 300.0)\">\n",
              "<polygon points=\"-5,-4.5 0,-2.5 5,-4.5 0,4.5\" transform=\"skewX(0) scale(1,1)\" style=\"stroke:black;fill:black;stroke-width:1\" />\n",
              "</g><g id=\"classic\" visibility=\"visible\" transform=\"rotate(-90,400.0,300.0) translate(400.0, 300.0)\">\n",
              "<polygon points=\"-5,-4.5 0,-2.5 5,-4.5 0,4.5\" transform=\"skewX(0) scale(1,1)\" style=\"stroke:black;fill:black;stroke-width:1\" />\n",
              "</g><g id=\"classic\" visibility=\"visible\" transform=\"rotate(-90,400.0,300.0) translate(400.0, 300.0)\">\n",
              "<polygon points=\"-5,-4.5 0,-2.5 5,-4.5 0,4.5\" transform=\"skewX(0) scale(1,1)\" style=\"stroke:black;fill:black;stroke-width:1\" />\n",
              "</g><g id=\"classic\" visibility=\"visible\" transform=\"rotate(36.0,370.131,216.062) translate(370.131, 216.062)\">\n",
              "<polygon points=\"-5,-4.5 0,-2.5 5,-4.5 0,4.5\" transform=\"skewX(0) scale(1,1)\" style=\"stroke:black;fill:black;stroke-width:1\" />\n",
              "</g>\n",
              "      </svg>\n",
              "    "
            ]
          },
          "metadata": {}
        }
      ]
    },
    {
      "cell_type": "code",
      "metadata": {
        "colab": {
          "base_uri": "https://localhost:8080/"
        },
        "id": "304ae252",
        "outputId": "acbbab76-1e12-4420-c914-da691e532234"
      },
      "source": [
        "!pip install ColabTurtlePlus"
      ],
      "execution_count": 4,
      "outputs": [
        {
          "output_type": "stream",
          "name": "stdout",
          "text": [
            "Collecting ColabTurtlePlus\n",
            "  Downloading ColabTurtlePlus-2.0.1-py3-none-any.whl.metadata (10 kB)\n",
            "Downloading ColabTurtlePlus-2.0.1-py3-none-any.whl (31 kB)\n",
            "Installing collected packages: ColabTurtlePlus\n",
            "Successfully installed ColabTurtlePlus-2.0.1\n"
          ]
        }
      ]
    },
    {
      "cell_type": "code",
      "source": [
        "#ASSIGNMENT DRAW 3 DIFFERENT SHAPES WITH 3 DIFFERENT COLOR\n",
        "from ColabTurtlePlus.Turtle import*\n",
        "initializeTurtle()\n",
        "t = Turtle() # Create the turtle object here\n",
        "t.speed(10)\n",
        "t.color('red')\n",
        "t.pensize(5)\n",
        "t.circle(150)\n",
        "t.color('green')\n",
        "t.pensize(10)\n",
        "t.speed(10) # Set the speed using the speed() method\n",
        "t.forward(100)\n",
        "t.right(120) # Turn 120 degrees for an equilateral triangle\n",
        "t.forward(100)\n",
        "t.right(120)\n",
        "t.forward(100)\n",
        "t.color('blue')\n",
        "t.pensize(15)\n",
        "t.forward(100)\n",
        "t.right(93)\n",
        "t.forward(100)\n",
        "t.right(90)\n",
        "t.forward(100)\n",
        "t.right(93)\n",
        "t.forward(100)\n",
        "t.right(90)\n",
        "\n"
      ],
      "metadata": {
        "colab": {
          "base_uri": "https://localhost:8080/",
          "height": 638
        },
        "id": "aoXFRyZiYB5h",
        "outputId": "1a8ac7a5-2b83-4d0b-8e8e-ad52812df3cc"
      },
      "execution_count": 6,
      "outputs": [
        {
          "output_type": "stream",
          "name": "stdout",
          "text": [
            "Put clearscreen() as the first line in a cell (after the import command) to re-run turtle commands in the cell\n"
          ]
        },
        {
          "output_type": "display_data",
          "data": {
            "text/plain": [
              "<IPython.core.display.HTML object>"
            ],
            "text/html": [
              "\n",
              "      <svg width=\"800\" height=\"600\">  \n",
              "        <rect width=\"100%\" height=\"100%\" style=\"fill:white;stroke:;stroke-width:1\"/>\n",
              "        \n",
              "        \n",
              "        <path d=\"M 400.0 300.0 A 150 150 0 0 0 400.0 0.0\" stroke-linecap=\"round\" \n",
              "            fill=\"transparent\" fill-opacity=\"0\" style=\"stroke:red;stroke-width:5\"/><path d=\"M 400.0 0.0 A 150 150 0 0 0 400.0 300.0\" stroke-linecap=\"round\" \n",
              "            fill=\"transparent\" fill-opacity=\"0\" style=\"stroke:red;stroke-width:5\"/><line x1=\"400.0\" y1=\"300.0\" x2=\"500.0\" y2=\"300.0\" stroke-linecap=\"round\" style=\"stroke:green;stroke-width:10\" /><line x1=\"500.0\" y1=\"300.0\" x2=\"450.0\" y2=\"386.603\" stroke-linecap=\"round\" style=\"stroke:green;stroke-width:10\" /><line x1=\"450.0\" y1=\"386.603\" x2=\"400.0\" y2=\"300.0\" stroke-linecap=\"round\" style=\"stroke:green;stroke-width:10\" /><line x1=\"400.0\" y1=\"300.0\" x2=\"350.0\" y2=\"213.397\" stroke-linecap=\"round\" style=\"stroke:blue;stroke-width:15\" /><line x1=\"350.0\" y1=\"213.397\" x2=\"439.101\" y2=\"167.998\" stroke-linecap=\"round\" style=\"stroke:blue;stroke-width:15\" /><line x1=\"439.101\" y1=\"167.998\" x2=\"484.5\" y2=\"257.099\" stroke-linecap=\"round\" style=\"stroke:blue;stroke-width:15\" /><line x1=\"484.5\" y1=\"257.099\" x2=\"393.145\" y2=\"297.773\" stroke-linecap=\"round\" style=\"stroke:blue;stroke-width:15\" />\n",
              "        \n",
              "        \n",
              "        <g id=\"classic\" visibility=\"visible\" transform=\"rotate(66.0,393.145,297.773) translate(393.145, 297.773)\">\n",
              "<polygon points=\"-5,-4.5 0,-2.5 5,-4.5 0,4.5\" transform=\"skewX(0) scale(1,1)\" style=\"stroke:blue;fill:blue;stroke-width:1\" />\n",
              "<animateTransform id = \"one\" attributeName=\"transform\" \n",
              "                      type=\"scale\"\n",
              "                      from=\"1 1\" to=\"1 1\"\n",
              "                      begin=\"0s\" dur=\"0.01s\"\n",
              "                      repeatCount=\"1\"\n",
              "                      additive=\"sum\"\n",
              "                      fill=\"freeze\"\n",
              "                /><animateTransform attributeName=\"transform\"\n",
              "                    type=\"rotate\"\n",
              "                    from=\"0 0 0\" to =\"90 0 0\"\n",
              "                    begin=\"one.end\" dur=\"0.08s\"\n",
              "                    repeatCount=\"1\"\n",
              "                    additive=\"sum\"\n",
              "                    fill=\"freeze\"\n",
              "                /></g>\n",
              "      </svg>\n",
              "    "
            ]
          },
          "metadata": {}
        }
      ]
    },
    {
      "cell_type": "code",
      "source": [
        "from google.colab import drive\n",
        "drive.mount('/content/drive')"
      ],
      "metadata": {
        "id": "9daTEJv6C7j7"
      },
      "execution_count": null,
      "outputs": []
    },
    {
      "cell_type": "code",
      "metadata": {
        "id": "5da6bbf1"
      },
      "source": [
        "!pip install ColabTurtlePlus"
      ],
      "execution_count": null,
      "outputs": []
    }
  ],
  "metadata": {
    "colab": {
      "provenance": [],
      "mount_file_id": "1WE8hviKJIdD1GXSRSxXz13TQt13yPPJ8",
      "authorship_tag": "ABX9TyNj051ceZ6W6uHBsrttlwnV",
      "include_colab_link": true
    },
    "kernelspec": {
      "display_name": "Python 3",
      "name": "python3"
    },
    "language_info": {
      "name": "python"
    }
  },
  "nbformat": 4,
  "nbformat_minor": 0
}